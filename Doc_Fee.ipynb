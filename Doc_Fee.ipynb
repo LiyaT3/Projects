{
  "nbformat": 4,
  "nbformat_minor": 0,
  "metadata": {
    "colab": {
      "provenance": []
    },
    "kernelspec": {
      "name": "python3",
      "display_name": "Python 3"
    },
    "language_info": {
      "name": "python"
    }
  },
  "cells": [
    {
      "cell_type": "code",
      "source": [
        "!pip install pandas numpy matplotlib seaborn"
      ],
      "metadata": {
        "colab": {
          "base_uri": "https://localhost:8080/"
        },
        "id": "va3MEbjDzAru",
        "outputId": "52de39ed-7a31-4538-92ad-2ad71fafee01"
      },
      "execution_count": 1,
      "outputs": [
        {
          "output_type": "stream",
          "name": "stdout",
          "text": [
            "Requirement already satisfied: pandas in /usr/local/lib/python3.10/dist-packages (1.5.3)\n",
            "Requirement already satisfied: numpy in /usr/local/lib/python3.10/dist-packages (1.25.2)\n",
            "Requirement already satisfied: matplotlib in /usr/local/lib/python3.10/dist-packages (3.7.1)\n",
            "Requirement already satisfied: seaborn in /usr/local/lib/python3.10/dist-packages (0.13.1)\n",
            "Requirement already satisfied: python-dateutil>=2.8.1 in /usr/local/lib/python3.10/dist-packages (from pandas) (2.8.2)\n",
            "Requirement already satisfied: pytz>=2020.1 in /usr/local/lib/python3.10/dist-packages (from pandas) (2023.4)\n",
            "Requirement already satisfied: contourpy>=1.0.1 in /usr/local/lib/python3.10/dist-packages (from matplotlib) (1.2.0)\n",
            "Requirement already satisfied: cycler>=0.10 in /usr/local/lib/python3.10/dist-packages (from matplotlib) (0.12.1)\n",
            "Requirement already satisfied: fonttools>=4.22.0 in /usr/local/lib/python3.10/dist-packages (from matplotlib) (4.49.0)\n",
            "Requirement already satisfied: kiwisolver>=1.0.1 in /usr/local/lib/python3.10/dist-packages (from matplotlib) (1.4.5)\n",
            "Requirement already satisfied: packaging>=20.0 in /usr/local/lib/python3.10/dist-packages (from matplotlib) (23.2)\n",
            "Requirement already satisfied: pillow>=6.2.0 in /usr/local/lib/python3.10/dist-packages (from matplotlib) (9.4.0)\n",
            "Requirement already satisfied: pyparsing>=2.3.1 in /usr/local/lib/python3.10/dist-packages (from matplotlib) (3.1.1)\n",
            "Requirement already satisfied: six>=1.5 in /usr/local/lib/python3.10/dist-packages (from python-dateutil>=2.8.1->pandas) (1.16.0)\n"
          ]
        }
      ]
    },
    {
      "cell_type": "code",
      "source": [
        "import pandas as pd\n",
        "import numpy as np\n",
        "import seaborn as sns\n",
        "import matplotlib.pyplot as plt"
      ],
      "metadata": {
        "id": "XWxorS2fzHrF"
      },
      "execution_count": 2,
      "outputs": []
    },
    {
      "cell_type": "code",
      "source": [
        "!pip install openpyxl"
      ],
      "metadata": {
        "colab": {
          "base_uri": "https://localhost:8080/"
        },
        "id": "ioT8elZ_0JnD",
        "outputId": "7d19ba16-6e2c-4bd9-97ac-30d31f0ee2f7"
      },
      "execution_count": 3,
      "outputs": [
        {
          "output_type": "stream",
          "name": "stdout",
          "text": [
            "Requirement already satisfied: openpyxl in /usr/local/lib/python3.10/dist-packages (3.1.2)\n",
            "Requirement already satisfied: et-xmlfile in /usr/local/lib/python3.10/dist-packages (from openpyxl) (1.1.0)\n"
          ]
        }
      ]
    },
    {
      "cell_type": "code",
      "source": [
        "gitlinks = [\n",
        "    \"https://raw.githubusercontent.com/LiyaT3/Data_Files/main/fee_train.xlsx\",\n",
        "    \"https://raw.githubusercontent.com/LiyaT3/Data_Files/main/fee_test.xlsx\"\n",
        "]\n"
      ],
      "metadata": {
        "id": "7SVQwhkH0sP7"
      },
      "execution_count": 4,
      "outputs": []
    },
    {
      "cell_type": "code",
      "source": [
        "train = pd.read_excel(gitlinks[0], engine='openpyxl')\n",
        "test = pd.read_excel(gitlinks[1])"
      ],
      "metadata": {
        "id": "550pacxI0dP9"
      },
      "execution_count": 5,
      "outputs": []
    },
    {
      "cell_type": "code",
      "source": [
        "train.head(3)"
      ],
      "metadata": {
        "colab": {
          "base_uri": "https://localhost:8080/",
          "height": 196
        },
        "id": "I58nkBLS1dYW",
        "outputId": "979a9693-9f0f-43de-f2f2-8865c3a91430"
      },
      "execution_count": 6,
      "outputs": [
        {
          "output_type": "execute_result",
          "data": {
            "text/plain": [
              "                    Qualification           Experience Rating  \\\n",
              "0           BHMS, MD - Homeopathy  24 years experience   100%   \n",
              "1    BAMS, MD - Ayurveda Medicine  12 years experience    98%   \n",
              "2  MBBS, MS - Otorhinolaryngology   9 years experience    NaN   \n",
              "\n",
              "                        Place         Profile  \\\n",
              "0         Kakkanad, Ernakulam       Homeopath   \n",
              "1       Whitefield, Bangalore        Ayurveda   \n",
              "2  Mathikere - BEL, Bangalore  ENT Specialist   \n",
              "\n",
              "                      Miscellaneous_Info  Fees  \n",
              "0   100% 16 Feedback Kakkanad, Ernakulam   100  \n",
              "1  98% 76 Feedback Whitefield, Bangalore   350  \n",
              "2                                    NaN   300  "
            ],
            "text/html": [
              "\n",
              "  <div id=\"df-bcae6834-6750-47cd-9bac-15c28bf3e69d\" class=\"colab-df-container\">\n",
              "    <div>\n",
              "<style scoped>\n",
              "    .dataframe tbody tr th:only-of-type {\n",
              "        vertical-align: middle;\n",
              "    }\n",
              "\n",
              "    .dataframe tbody tr th {\n",
              "        vertical-align: top;\n",
              "    }\n",
              "\n",
              "    .dataframe thead th {\n",
              "        text-align: right;\n",
              "    }\n",
              "</style>\n",
              "<table border=\"1\" class=\"dataframe\">\n",
              "  <thead>\n",
              "    <tr style=\"text-align: right;\">\n",
              "      <th></th>\n",
              "      <th>Qualification</th>\n",
              "      <th>Experience</th>\n",
              "      <th>Rating</th>\n",
              "      <th>Place</th>\n",
              "      <th>Profile</th>\n",
              "      <th>Miscellaneous_Info</th>\n",
              "      <th>Fees</th>\n",
              "    </tr>\n",
              "  </thead>\n",
              "  <tbody>\n",
              "    <tr>\n",
              "      <th>0</th>\n",
              "      <td>BHMS, MD - Homeopathy</td>\n",
              "      <td>24 years experience</td>\n",
              "      <td>100%</td>\n",
              "      <td>Kakkanad, Ernakulam</td>\n",
              "      <td>Homeopath</td>\n",
              "      <td>100% 16 Feedback Kakkanad, Ernakulam</td>\n",
              "      <td>100</td>\n",
              "    </tr>\n",
              "    <tr>\n",
              "      <th>1</th>\n",
              "      <td>BAMS, MD - Ayurveda Medicine</td>\n",
              "      <td>12 years experience</td>\n",
              "      <td>98%</td>\n",
              "      <td>Whitefield, Bangalore</td>\n",
              "      <td>Ayurveda</td>\n",
              "      <td>98% 76 Feedback Whitefield, Bangalore</td>\n",
              "      <td>350</td>\n",
              "    </tr>\n",
              "    <tr>\n",
              "      <th>2</th>\n",
              "      <td>MBBS, MS - Otorhinolaryngology</td>\n",
              "      <td>9 years experience</td>\n",
              "      <td>NaN</td>\n",
              "      <td>Mathikere - BEL, Bangalore</td>\n",
              "      <td>ENT Specialist</td>\n",
              "      <td>NaN</td>\n",
              "      <td>300</td>\n",
              "    </tr>\n",
              "  </tbody>\n",
              "</table>\n",
              "</div>\n",
              "    <div class=\"colab-df-buttons\">\n",
              "\n",
              "  <div class=\"colab-df-container\">\n",
              "    <button class=\"colab-df-convert\" onclick=\"convertToInteractive('df-bcae6834-6750-47cd-9bac-15c28bf3e69d')\"\n",
              "            title=\"Convert this dataframe to an interactive table.\"\n",
              "            style=\"display:none;\">\n",
              "\n",
              "  <svg xmlns=\"http://www.w3.org/2000/svg\" height=\"24px\" viewBox=\"0 -960 960 960\">\n",
              "    <path d=\"M120-120v-720h720v720H120Zm60-500h600v-160H180v160Zm220 220h160v-160H400v160Zm0 220h160v-160H400v160ZM180-400h160v-160H180v160Zm440 0h160v-160H620v160ZM180-180h160v-160H180v160Zm440 0h160v-160H620v160Z\"/>\n",
              "  </svg>\n",
              "    </button>\n",
              "\n",
              "  <style>\n",
              "    .colab-df-container {\n",
              "      display:flex;\n",
              "      gap: 12px;\n",
              "    }\n",
              "\n",
              "    .colab-df-convert {\n",
              "      background-color: #E8F0FE;\n",
              "      border: none;\n",
              "      border-radius: 50%;\n",
              "      cursor: pointer;\n",
              "      display: none;\n",
              "      fill: #1967D2;\n",
              "      height: 32px;\n",
              "      padding: 0 0 0 0;\n",
              "      width: 32px;\n",
              "    }\n",
              "\n",
              "    .colab-df-convert:hover {\n",
              "      background-color: #E2EBFA;\n",
              "      box-shadow: 0px 1px 2px rgba(60, 64, 67, 0.3), 0px 1px 3px 1px rgba(60, 64, 67, 0.15);\n",
              "      fill: #174EA6;\n",
              "    }\n",
              "\n",
              "    .colab-df-buttons div {\n",
              "      margin-bottom: 4px;\n",
              "    }\n",
              "\n",
              "    [theme=dark] .colab-df-convert {\n",
              "      background-color: #3B4455;\n",
              "      fill: #D2E3FC;\n",
              "    }\n",
              "\n",
              "    [theme=dark] .colab-df-convert:hover {\n",
              "      background-color: #434B5C;\n",
              "      box-shadow: 0px 1px 3px 1px rgba(0, 0, 0, 0.15);\n",
              "      filter: drop-shadow(0px 1px 2px rgba(0, 0, 0, 0.3));\n",
              "      fill: #FFFFFF;\n",
              "    }\n",
              "  </style>\n",
              "\n",
              "    <script>\n",
              "      const buttonEl =\n",
              "        document.querySelector('#df-bcae6834-6750-47cd-9bac-15c28bf3e69d button.colab-df-convert');\n",
              "      buttonEl.style.display =\n",
              "        google.colab.kernel.accessAllowed ? 'block' : 'none';\n",
              "\n",
              "      async function convertToInteractive(key) {\n",
              "        const element = document.querySelector('#df-bcae6834-6750-47cd-9bac-15c28bf3e69d');\n",
              "        const dataTable =\n",
              "          await google.colab.kernel.invokeFunction('convertToInteractive',\n",
              "                                                    [key], {});\n",
              "        if (!dataTable) return;\n",
              "\n",
              "        const docLinkHtml = 'Like what you see? Visit the ' +\n",
              "          '<a target=\"_blank\" href=https://colab.research.google.com/notebooks/data_table.ipynb>data table notebook</a>'\n",
              "          + ' to learn more about interactive tables.';\n",
              "        element.innerHTML = '';\n",
              "        dataTable['output_type'] = 'display_data';\n",
              "        await google.colab.output.renderOutput(dataTable, element);\n",
              "        const docLink = document.createElement('div');\n",
              "        docLink.innerHTML = docLinkHtml;\n",
              "        element.appendChild(docLink);\n",
              "      }\n",
              "    </script>\n",
              "  </div>\n",
              "\n",
              "\n",
              "<div id=\"df-5aef4f07-7b67-40c4-8b94-e1f093ccec3f\">\n",
              "  <button class=\"colab-df-quickchart\" onclick=\"quickchart('df-5aef4f07-7b67-40c4-8b94-e1f093ccec3f')\"\n",
              "            title=\"Suggest charts\"\n",
              "            style=\"display:none;\">\n",
              "\n",
              "<svg xmlns=\"http://www.w3.org/2000/svg\" height=\"24px\"viewBox=\"0 0 24 24\"\n",
              "     width=\"24px\">\n",
              "    <g>\n",
              "        <path d=\"M19 3H5c-1.1 0-2 .9-2 2v14c0 1.1.9 2 2 2h14c1.1 0 2-.9 2-2V5c0-1.1-.9-2-2-2zM9 17H7v-7h2v7zm4 0h-2V7h2v10zm4 0h-2v-4h2v4z\"/>\n",
              "    </g>\n",
              "</svg>\n",
              "  </button>\n",
              "\n",
              "<style>\n",
              "  .colab-df-quickchart {\n",
              "      --bg-color: #E8F0FE;\n",
              "      --fill-color: #1967D2;\n",
              "      --hover-bg-color: #E2EBFA;\n",
              "      --hover-fill-color: #174EA6;\n",
              "      --disabled-fill-color: #AAA;\n",
              "      --disabled-bg-color: #DDD;\n",
              "  }\n",
              "\n",
              "  [theme=dark] .colab-df-quickchart {\n",
              "      --bg-color: #3B4455;\n",
              "      --fill-color: #D2E3FC;\n",
              "      --hover-bg-color: #434B5C;\n",
              "      --hover-fill-color: #FFFFFF;\n",
              "      --disabled-bg-color: #3B4455;\n",
              "      --disabled-fill-color: #666;\n",
              "  }\n",
              "\n",
              "  .colab-df-quickchart {\n",
              "    background-color: var(--bg-color);\n",
              "    border: none;\n",
              "    border-radius: 50%;\n",
              "    cursor: pointer;\n",
              "    display: none;\n",
              "    fill: var(--fill-color);\n",
              "    height: 32px;\n",
              "    padding: 0;\n",
              "    width: 32px;\n",
              "  }\n",
              "\n",
              "  .colab-df-quickchart:hover {\n",
              "    background-color: var(--hover-bg-color);\n",
              "    box-shadow: 0 1px 2px rgba(60, 64, 67, 0.3), 0 1px 3px 1px rgba(60, 64, 67, 0.15);\n",
              "    fill: var(--button-hover-fill-color);\n",
              "  }\n",
              "\n",
              "  .colab-df-quickchart-complete:disabled,\n",
              "  .colab-df-quickchart-complete:disabled:hover {\n",
              "    background-color: var(--disabled-bg-color);\n",
              "    fill: var(--disabled-fill-color);\n",
              "    box-shadow: none;\n",
              "  }\n",
              "\n",
              "  .colab-df-spinner {\n",
              "    border: 2px solid var(--fill-color);\n",
              "    border-color: transparent;\n",
              "    border-bottom-color: var(--fill-color);\n",
              "    animation:\n",
              "      spin 1s steps(1) infinite;\n",
              "  }\n",
              "\n",
              "  @keyframes spin {\n",
              "    0% {\n",
              "      border-color: transparent;\n",
              "      border-bottom-color: var(--fill-color);\n",
              "      border-left-color: var(--fill-color);\n",
              "    }\n",
              "    20% {\n",
              "      border-color: transparent;\n",
              "      border-left-color: var(--fill-color);\n",
              "      border-top-color: var(--fill-color);\n",
              "    }\n",
              "    30% {\n",
              "      border-color: transparent;\n",
              "      border-left-color: var(--fill-color);\n",
              "      border-top-color: var(--fill-color);\n",
              "      border-right-color: var(--fill-color);\n",
              "    }\n",
              "    40% {\n",
              "      border-color: transparent;\n",
              "      border-right-color: var(--fill-color);\n",
              "      border-top-color: var(--fill-color);\n",
              "    }\n",
              "    60% {\n",
              "      border-color: transparent;\n",
              "      border-right-color: var(--fill-color);\n",
              "    }\n",
              "    80% {\n",
              "      border-color: transparent;\n",
              "      border-right-color: var(--fill-color);\n",
              "      border-bottom-color: var(--fill-color);\n",
              "    }\n",
              "    90% {\n",
              "      border-color: transparent;\n",
              "      border-bottom-color: var(--fill-color);\n",
              "    }\n",
              "  }\n",
              "</style>\n",
              "\n",
              "  <script>\n",
              "    async function quickchart(key) {\n",
              "      const quickchartButtonEl =\n",
              "        document.querySelector('#' + key + ' button');\n",
              "      quickchartButtonEl.disabled = true;  // To prevent multiple clicks.\n",
              "      quickchartButtonEl.classList.add('colab-df-spinner');\n",
              "      try {\n",
              "        const charts = await google.colab.kernel.invokeFunction(\n",
              "            'suggestCharts', [key], {});\n",
              "      } catch (error) {\n",
              "        console.error('Error during call to suggestCharts:', error);\n",
              "      }\n",
              "      quickchartButtonEl.classList.remove('colab-df-spinner');\n",
              "      quickchartButtonEl.classList.add('colab-df-quickchart-complete');\n",
              "    }\n",
              "    (() => {\n",
              "      let quickchartButtonEl =\n",
              "        document.querySelector('#df-5aef4f07-7b67-40c4-8b94-e1f093ccec3f button');\n",
              "      quickchartButtonEl.style.display =\n",
              "        google.colab.kernel.accessAllowed ? 'block' : 'none';\n",
              "    })();\n",
              "  </script>\n",
              "</div>\n",
              "\n",
              "    </div>\n",
              "  </div>\n"
            ],
            "application/vnd.google.colaboratory.intrinsic+json": {
              "type": "dataframe",
              "variable_name": "train",
              "summary": "{\n  \"name\": \"train\",\n  \"rows\": 5961,\n  \"fields\": [\n    {\n      \"column\": \"Qualification\",\n      \"properties\": {\n        \"dtype\": \"category\",\n        \"num_unique_values\": 1420,\n        \"samples\": [\n          \"MBBS, MD - General Medicine, FRCP, Doctor of Science (DSc.), D.LITT - Diabetology\",\n          \"BDS, MDS - Periodontics, Diploma in Implanthology\",\n          \"DHMS (Diploma in Homeopathic Medicine and Surgery), MD - Homeopathy, Doctor of Homeopathic Medicine (HMD)\"\n        ],\n        \"semantic_type\": \"\",\n        \"description\": \"\"\n      }\n    },\n    {\n      \"column\": \"Experience\",\n      \"properties\": {\n        \"dtype\": \"category\",\n        \"num_unique_values\": 64,\n        \"samples\": [\n          \"2 years experience\",\n          \"61 years experience\",\n          \"24 years experience\"\n        ],\n        \"semantic_type\": \"\",\n        \"description\": \"\"\n      }\n    },\n    {\n      \"column\": \"Rating\",\n      \"properties\": {\n        \"dtype\": \"category\",\n        \"num_unique_values\": 51,\n        \"samples\": [\n          \"48%\",\n          \"62%\",\n          \"64%\"\n        ],\n        \"semantic_type\": \"\",\n        \"description\": \"\"\n      }\n    },\n    {\n      \"column\": \"Place\",\n      \"properties\": {\n        \"dtype\": \"category\",\n        \"num_unique_values\": 877,\n        \"samples\": [\n          \"Kishanbagh, Hyderabad\",\n          \"Sindhi Colony, Hyderabad\",\n          \"Jogeshwari East, Mumbai\"\n        ],\n        \"semantic_type\": \"\",\n        \"description\": \"\"\n      }\n    },\n    {\n      \"column\": \"Profile\",\n      \"properties\": {\n        \"dtype\": \"category\",\n        \"num_unique_values\": 6,\n        \"samples\": [\n          \"Homeopath\",\n          \"Ayurveda\",\n          \"Dermatologists\"\n        ],\n        \"semantic_type\": \"\",\n        \"description\": \"\"\n      }\n    },\n    {\n      \"column\": \"Miscellaneous_Info\",\n      \"properties\": {\n        \"dtype\": \"string\",\n        \"num_unique_values\": 2998,\n        \"samples\": [\n          \"97% 4 Feedback Rajakilpakkam, Chennai\",\n          \"Skin Care Skin Disease Treatment Skin Rash Treatment\",\n          \"Skin Disease Treatment Weight Loss Diet Counseling Hair Loss Treatment\"\n        ],\n        \"semantic_type\": \"\",\n        \"description\": \"\"\n      }\n    },\n    {\n      \"column\": \"Fees\",\n      \"properties\": {\n        \"dtype\": \"number\",\n        \"std\": 190,\n        \"min\": 5,\n        \"max\": 950,\n        \"num_unique_values\": 40,\n        \"samples\": [\n          950,\n          60,\n          80\n        ],\n        \"semantic_type\": \"\",\n        \"description\": \"\"\n      }\n    }\n  ]\n}"
            }
          },
          "metadata": {},
          "execution_count": 6
        }
      ]
    },
    {
      "cell_type": "code",
      "source": [
        "train.info()"
      ],
      "metadata": {
        "colab": {
          "base_uri": "https://localhost:8080/"
        },
        "id": "gEKxi5ct10ev",
        "outputId": "a78b56c7-ea6c-4835-9469-7d3bb966988c"
      },
      "execution_count": 7,
      "outputs": [
        {
          "output_type": "stream",
          "name": "stdout",
          "text": [
            "<class 'pandas.core.frame.DataFrame'>\n",
            "RangeIndex: 5961 entries, 0 to 5960\n",
            "Data columns (total 7 columns):\n",
            " #   Column              Non-Null Count  Dtype \n",
            "---  ------              --------------  ----- \n",
            " 0   Qualification       5961 non-null   object\n",
            " 1   Experience          5961 non-null   object\n",
            " 2   Rating              2659 non-null   object\n",
            " 3   Place               5936 non-null   object\n",
            " 4   Profile             5961 non-null   object\n",
            " 5   Miscellaneous_Info  3341 non-null   object\n",
            " 6   Fees                5961 non-null   int64 \n",
            "dtypes: int64(1), object(6)\n",
            "memory usage: 326.1+ KB\n"
          ]
        }
      ]
    },
    {
      "cell_type": "code",
      "source": [
        "train.describe(include = 'object')"
      ],
      "metadata": {
        "colab": {
          "base_uri": "https://localhost:8080/",
          "height": 192
        },
        "id": "Wsn2vqT715DJ",
        "outputId": "8c9d21cd-e164-46e4-cf47-540555344163"
      },
      "execution_count": 8,
      "outputs": [
        {
          "output_type": "execute_result",
          "data": {
            "text/plain": [
              "       Qualification          Experience Rating                  Place  \\\n",
              "count           5961                5961   2659                   5936   \n",
              "unique          1420                  64     51                    877   \n",
              "top              BDS  9 years experience   100%  HSR Layout, Bangalore   \n",
              "freq             488                 323    684                     75   \n",
              "\n",
              "        Profile                                 Miscellaneous_Info  \n",
              "count      5961                                               3341  \n",
              "unique        6                                               2998  \n",
              "top     Dentist  Acrylic Partial Denture Crowns and Bridges Fix...  \n",
              "freq       1397                                                 40  "
            ],
            "text/html": [
              "\n",
              "  <div id=\"df-a5d714db-51ac-4305-ab0c-608a0e4b329c\" class=\"colab-df-container\">\n",
              "    <div>\n",
              "<style scoped>\n",
              "    .dataframe tbody tr th:only-of-type {\n",
              "        vertical-align: middle;\n",
              "    }\n",
              "\n",
              "    .dataframe tbody tr th {\n",
              "        vertical-align: top;\n",
              "    }\n",
              "\n",
              "    .dataframe thead th {\n",
              "        text-align: right;\n",
              "    }\n",
              "</style>\n",
              "<table border=\"1\" class=\"dataframe\">\n",
              "  <thead>\n",
              "    <tr style=\"text-align: right;\">\n",
              "      <th></th>\n",
              "      <th>Qualification</th>\n",
              "      <th>Experience</th>\n",
              "      <th>Rating</th>\n",
              "      <th>Place</th>\n",
              "      <th>Profile</th>\n",
              "      <th>Miscellaneous_Info</th>\n",
              "    </tr>\n",
              "  </thead>\n",
              "  <tbody>\n",
              "    <tr>\n",
              "      <th>count</th>\n",
              "      <td>5961</td>\n",
              "      <td>5961</td>\n",
              "      <td>2659</td>\n",
              "      <td>5936</td>\n",
              "      <td>5961</td>\n",
              "      <td>3341</td>\n",
              "    </tr>\n",
              "    <tr>\n",
              "      <th>unique</th>\n",
              "      <td>1420</td>\n",
              "      <td>64</td>\n",
              "      <td>51</td>\n",
              "      <td>877</td>\n",
              "      <td>6</td>\n",
              "      <td>2998</td>\n",
              "    </tr>\n",
              "    <tr>\n",
              "      <th>top</th>\n",
              "      <td>BDS</td>\n",
              "      <td>9 years experience</td>\n",
              "      <td>100%</td>\n",
              "      <td>HSR Layout, Bangalore</td>\n",
              "      <td>Dentist</td>\n",
              "      <td>Acrylic Partial Denture Crowns and Bridges Fix...</td>\n",
              "    </tr>\n",
              "    <tr>\n",
              "      <th>freq</th>\n",
              "      <td>488</td>\n",
              "      <td>323</td>\n",
              "      <td>684</td>\n",
              "      <td>75</td>\n",
              "      <td>1397</td>\n",
              "      <td>40</td>\n",
              "    </tr>\n",
              "  </tbody>\n",
              "</table>\n",
              "</div>\n",
              "    <div class=\"colab-df-buttons\">\n",
              "\n",
              "  <div class=\"colab-df-container\">\n",
              "    <button class=\"colab-df-convert\" onclick=\"convertToInteractive('df-a5d714db-51ac-4305-ab0c-608a0e4b329c')\"\n",
              "            title=\"Convert this dataframe to an interactive table.\"\n",
              "            style=\"display:none;\">\n",
              "\n",
              "  <svg xmlns=\"http://www.w3.org/2000/svg\" height=\"24px\" viewBox=\"0 -960 960 960\">\n",
              "    <path d=\"M120-120v-720h720v720H120Zm60-500h600v-160H180v160Zm220 220h160v-160H400v160Zm0 220h160v-160H400v160ZM180-400h160v-160H180v160Zm440 0h160v-160H620v160ZM180-180h160v-160H180v160Zm440 0h160v-160H620v160Z\"/>\n",
              "  </svg>\n",
              "    </button>\n",
              "\n",
              "  <style>\n",
              "    .colab-df-container {\n",
              "      display:flex;\n",
              "      gap: 12px;\n",
              "    }\n",
              "\n",
              "    .colab-df-convert {\n",
              "      background-color: #E8F0FE;\n",
              "      border: none;\n",
              "      border-radius: 50%;\n",
              "      cursor: pointer;\n",
              "      display: none;\n",
              "      fill: #1967D2;\n",
              "      height: 32px;\n",
              "      padding: 0 0 0 0;\n",
              "      width: 32px;\n",
              "    }\n",
              "\n",
              "    .colab-df-convert:hover {\n",
              "      background-color: #E2EBFA;\n",
              "      box-shadow: 0px 1px 2px rgba(60, 64, 67, 0.3), 0px 1px 3px 1px rgba(60, 64, 67, 0.15);\n",
              "      fill: #174EA6;\n",
              "    }\n",
              "\n",
              "    .colab-df-buttons div {\n",
              "      margin-bottom: 4px;\n",
              "    }\n",
              "\n",
              "    [theme=dark] .colab-df-convert {\n",
              "      background-color: #3B4455;\n",
              "      fill: #D2E3FC;\n",
              "    }\n",
              "\n",
              "    [theme=dark] .colab-df-convert:hover {\n",
              "      background-color: #434B5C;\n",
              "      box-shadow: 0px 1px 3px 1px rgba(0, 0, 0, 0.15);\n",
              "      filter: drop-shadow(0px 1px 2px rgba(0, 0, 0, 0.3));\n",
              "      fill: #FFFFFF;\n",
              "    }\n",
              "  </style>\n",
              "\n",
              "    <script>\n",
              "      const buttonEl =\n",
              "        document.querySelector('#df-a5d714db-51ac-4305-ab0c-608a0e4b329c button.colab-df-convert');\n",
              "      buttonEl.style.display =\n",
              "        google.colab.kernel.accessAllowed ? 'block' : 'none';\n",
              "\n",
              "      async function convertToInteractive(key) {\n",
              "        const element = document.querySelector('#df-a5d714db-51ac-4305-ab0c-608a0e4b329c');\n",
              "        const dataTable =\n",
              "          await google.colab.kernel.invokeFunction('convertToInteractive',\n",
              "                                                    [key], {});\n",
              "        if (!dataTable) return;\n",
              "\n",
              "        const docLinkHtml = 'Like what you see? Visit the ' +\n",
              "          '<a target=\"_blank\" href=https://colab.research.google.com/notebooks/data_table.ipynb>data table notebook</a>'\n",
              "          + ' to learn more about interactive tables.';\n",
              "        element.innerHTML = '';\n",
              "        dataTable['output_type'] = 'display_data';\n",
              "        await google.colab.output.renderOutput(dataTable, element);\n",
              "        const docLink = document.createElement('div');\n",
              "        docLink.innerHTML = docLinkHtml;\n",
              "        element.appendChild(docLink);\n",
              "      }\n",
              "    </script>\n",
              "  </div>\n",
              "\n",
              "\n",
              "<div id=\"df-6ae04823-69e9-4a82-a3e7-16b7e2a70708\">\n",
              "  <button class=\"colab-df-quickchart\" onclick=\"quickchart('df-6ae04823-69e9-4a82-a3e7-16b7e2a70708')\"\n",
              "            title=\"Suggest charts\"\n",
              "            style=\"display:none;\">\n",
              "\n",
              "<svg xmlns=\"http://www.w3.org/2000/svg\" height=\"24px\"viewBox=\"0 0 24 24\"\n",
              "     width=\"24px\">\n",
              "    <g>\n",
              "        <path d=\"M19 3H5c-1.1 0-2 .9-2 2v14c0 1.1.9 2 2 2h14c1.1 0 2-.9 2-2V5c0-1.1-.9-2-2-2zM9 17H7v-7h2v7zm4 0h-2V7h2v10zm4 0h-2v-4h2v4z\"/>\n",
              "    </g>\n",
              "</svg>\n",
              "  </button>\n",
              "\n",
              "<style>\n",
              "  .colab-df-quickchart {\n",
              "      --bg-color: #E8F0FE;\n",
              "      --fill-color: #1967D2;\n",
              "      --hover-bg-color: #E2EBFA;\n",
              "      --hover-fill-color: #174EA6;\n",
              "      --disabled-fill-color: #AAA;\n",
              "      --disabled-bg-color: #DDD;\n",
              "  }\n",
              "\n",
              "  [theme=dark] .colab-df-quickchart {\n",
              "      --bg-color: #3B4455;\n",
              "      --fill-color: #D2E3FC;\n",
              "      --hover-bg-color: #434B5C;\n",
              "      --hover-fill-color: #FFFFFF;\n",
              "      --disabled-bg-color: #3B4455;\n",
              "      --disabled-fill-color: #666;\n",
              "  }\n",
              "\n",
              "  .colab-df-quickchart {\n",
              "    background-color: var(--bg-color);\n",
              "    border: none;\n",
              "    border-radius: 50%;\n",
              "    cursor: pointer;\n",
              "    display: none;\n",
              "    fill: var(--fill-color);\n",
              "    height: 32px;\n",
              "    padding: 0;\n",
              "    width: 32px;\n",
              "  }\n",
              "\n",
              "  .colab-df-quickchart:hover {\n",
              "    background-color: var(--hover-bg-color);\n",
              "    box-shadow: 0 1px 2px rgba(60, 64, 67, 0.3), 0 1px 3px 1px rgba(60, 64, 67, 0.15);\n",
              "    fill: var(--button-hover-fill-color);\n",
              "  }\n",
              "\n",
              "  .colab-df-quickchart-complete:disabled,\n",
              "  .colab-df-quickchart-complete:disabled:hover {\n",
              "    background-color: var(--disabled-bg-color);\n",
              "    fill: var(--disabled-fill-color);\n",
              "    box-shadow: none;\n",
              "  }\n",
              "\n",
              "  .colab-df-spinner {\n",
              "    border: 2px solid var(--fill-color);\n",
              "    border-color: transparent;\n",
              "    border-bottom-color: var(--fill-color);\n",
              "    animation:\n",
              "      spin 1s steps(1) infinite;\n",
              "  }\n",
              "\n",
              "  @keyframes spin {\n",
              "    0% {\n",
              "      border-color: transparent;\n",
              "      border-bottom-color: var(--fill-color);\n",
              "      border-left-color: var(--fill-color);\n",
              "    }\n",
              "    20% {\n",
              "      border-color: transparent;\n",
              "      border-left-color: var(--fill-color);\n",
              "      border-top-color: var(--fill-color);\n",
              "    }\n",
              "    30% {\n",
              "      border-color: transparent;\n",
              "      border-left-color: var(--fill-color);\n",
              "      border-top-color: var(--fill-color);\n",
              "      border-right-color: var(--fill-color);\n",
              "    }\n",
              "    40% {\n",
              "      border-color: transparent;\n",
              "      border-right-color: var(--fill-color);\n",
              "      border-top-color: var(--fill-color);\n",
              "    }\n",
              "    60% {\n",
              "      border-color: transparent;\n",
              "      border-right-color: var(--fill-color);\n",
              "    }\n",
              "    80% {\n",
              "      border-color: transparent;\n",
              "      border-right-color: var(--fill-color);\n",
              "      border-bottom-color: var(--fill-color);\n",
              "    }\n",
              "    90% {\n",
              "      border-color: transparent;\n",
              "      border-bottom-color: var(--fill-color);\n",
              "    }\n",
              "  }\n",
              "</style>\n",
              "\n",
              "  <script>\n",
              "    async function quickchart(key) {\n",
              "      const quickchartButtonEl =\n",
              "        document.querySelector('#' + key + ' button');\n",
              "      quickchartButtonEl.disabled = true;  // To prevent multiple clicks.\n",
              "      quickchartButtonEl.classList.add('colab-df-spinner');\n",
              "      try {\n",
              "        const charts = await google.colab.kernel.invokeFunction(\n",
              "            'suggestCharts', [key], {});\n",
              "      } catch (error) {\n",
              "        console.error('Error during call to suggestCharts:', error);\n",
              "      }\n",
              "      quickchartButtonEl.classList.remove('colab-df-spinner');\n",
              "      quickchartButtonEl.classList.add('colab-df-quickchart-complete');\n",
              "    }\n",
              "    (() => {\n",
              "      let quickchartButtonEl =\n",
              "        document.querySelector('#df-6ae04823-69e9-4a82-a3e7-16b7e2a70708 button');\n",
              "      quickchartButtonEl.style.display =\n",
              "        google.colab.kernel.accessAllowed ? 'block' : 'none';\n",
              "    })();\n",
              "  </script>\n",
              "</div>\n",
              "\n",
              "    </div>\n",
              "  </div>\n"
            ],
            "application/vnd.google.colaboratory.intrinsic+json": {
              "type": "dataframe",
              "summary": "{\n  \"name\": \"train\",\n  \"rows\": 4,\n  \"fields\": [\n    {\n      \"column\": \"Qualification\",\n      \"properties\": {\n        \"dtype\": \"string\",\n        \"num_unique_values\": 4,\n        \"samples\": [\n          1420,\n          \"488\",\n          \"5961\"\n        ],\n        \"semantic_type\": \"\",\n        \"description\": \"\"\n      }\n    },\n    {\n      \"column\": \"Experience\",\n      \"properties\": {\n        \"dtype\": \"string\",\n        \"num_unique_values\": 4,\n        \"samples\": [\n          64,\n          \"323\",\n          \"5961\"\n        ],\n        \"semantic_type\": \"\",\n        \"description\": \"\"\n      }\n    },\n    {\n      \"column\": \"Rating\",\n      \"properties\": {\n        \"dtype\": \"string\",\n        \"num_unique_values\": 4,\n        \"samples\": [\n          51,\n          \"684\",\n          \"2659\"\n        ],\n        \"semantic_type\": \"\",\n        \"description\": \"\"\n      }\n    },\n    {\n      \"column\": \"Place\",\n      \"properties\": {\n        \"dtype\": \"string\",\n        \"num_unique_values\": 4,\n        \"samples\": [\n          877,\n          \"75\",\n          \"5936\"\n        ],\n        \"semantic_type\": \"\",\n        \"description\": \"\"\n      }\n    },\n    {\n      \"column\": \"Profile\",\n      \"properties\": {\n        \"dtype\": \"string\",\n        \"num_unique_values\": 4,\n        \"samples\": [\n          6,\n          \"1397\",\n          \"5961\"\n        ],\n        \"semantic_type\": \"\",\n        \"description\": \"\"\n      }\n    },\n    {\n      \"column\": \"Miscellaneous_Info\",\n      \"properties\": {\n        \"dtype\": \"string\",\n        \"num_unique_values\": 4,\n        \"samples\": [\n          2998,\n          \"40\",\n          \"3341\"\n        ],\n        \"semantic_type\": \"\",\n        \"description\": \"\"\n      }\n    }\n  ]\n}"
            }
          },
          "metadata": {},
          "execution_count": 8
        }
      ]
    },
    {
      "cell_type": "code",
      "source": [
        "train.shape"
      ],
      "metadata": {
        "colab": {
          "base_uri": "https://localhost:8080/"
        },
        "id": "RCm1GCYJ9B-v",
        "outputId": "0cdf8ebb-5e1d-4fe8-aa28-114764a36962"
      },
      "execution_count": 9,
      "outputs": [
        {
          "output_type": "execute_result",
          "data": {
            "text/plain": [
              "(5961, 7)"
            ]
          },
          "metadata": {},
          "execution_count": 9
        }
      ]
    },
    {
      "cell_type": "code",
      "source": [
        "train.isnull().sum()"
      ],
      "metadata": {
        "colab": {
          "base_uri": "https://localhost:8080/"
        },
        "id": "7CWnZwv89D-C",
        "outputId": "69b9fa32-f8e7-4ee9-fcc5-6cf78cb5fc2f"
      },
      "execution_count": 10,
      "outputs": [
        {
          "output_type": "execute_result",
          "data": {
            "text/plain": [
              "Qualification            0\n",
              "Experience               0\n",
              "Rating                3302\n",
              "Place                   25\n",
              "Profile                  0\n",
              "Miscellaneous_Info    2620\n",
              "Fees                     0\n",
              "dtype: int64"
            ]
          },
          "metadata": {},
          "execution_count": 10
        }
      ]
    },
    {
      "cell_type": "code",
      "source": [
        "train['Experience']= train['Experience'].str.split().str[0]\n",
        "train['Experience']= train['Experience'].astype(int)"
      ],
      "metadata": {
        "id": "DWnFVZWL9PUw"
      },
      "execution_count": 11,
      "outputs": []
    },
    {
      "cell_type": "code",
      "source": [
        "train.info()"
      ],
      "metadata": {
        "colab": {
          "base_uri": "https://localhost:8080/"
        },
        "id": "9rtemIli9wkO",
        "outputId": "290f1fd1-0525-4c42-eea1-9932c8f0b8d7"
      },
      "execution_count": 12,
      "outputs": [
        {
          "output_type": "stream",
          "name": "stdout",
          "text": [
            "<class 'pandas.core.frame.DataFrame'>\n",
            "RangeIndex: 5961 entries, 0 to 5960\n",
            "Data columns (total 7 columns):\n",
            " #   Column              Non-Null Count  Dtype \n",
            "---  ------              --------------  ----- \n",
            " 0   Qualification       5961 non-null   object\n",
            " 1   Experience          5961 non-null   int64 \n",
            " 2   Rating              2659 non-null   object\n",
            " 3   Place               5936 non-null   object\n",
            " 4   Profile             5961 non-null   object\n",
            " 5   Miscellaneous_Info  3341 non-null   object\n",
            " 6   Fees                5961 non-null   int64 \n",
            "dtypes: int64(2), object(5)\n",
            "memory usage: 326.1+ KB\n"
          ]
        }
      ]
    },
    {
      "cell_type": "code",
      "source": [
        "train['Experience'].head(3)"
      ],
      "metadata": {
        "colab": {
          "base_uri": "https://localhost:8080/"
        },
        "id": "Ek8yHoWq93Da",
        "outputId": "c9cc0bcb-caf1-4b25-f7b1-2fafed6153fb"
      },
      "execution_count": 13,
      "outputs": [
        {
          "output_type": "execute_result",
          "data": {
            "text/plain": [
              "0    24\n",
              "1    12\n",
              "2     9\n",
              "Name: Experience, dtype: int64"
            ]
          },
          "metadata": {},
          "execution_count": 13
        }
      ]
    },
    {
      "cell_type": "code",
      "source": [
        "train['Place'].fillna('Unknown', inplace = True)"
      ],
      "metadata": {
        "id": "NrfpOF1b97mY"
      },
      "execution_count": 14,
      "outputs": []
    },
    {
      "cell_type": "code",
      "source": [
        "train['Locality'] = train['Place'].str.split().str[0]\n",
        "train['city'] = train['Place'].str.split().str[1]"
      ],
      "metadata": {
        "id": "Y-UWOMdV-WC1"
      },
      "execution_count": 15,
      "outputs": []
    },
    {
      "cell_type": "code",
      "source": [
        "train.head(5)"
      ],
      "metadata": {
        "colab": {
          "base_uri": "https://localhost:8080/",
          "height": 348
        },
        "id": "sv0D7sxYgZ7s",
        "outputId": "aa5450dc-2d34-48a4-9954-139652a1ad69"
      },
      "execution_count": 16,
      "outputs": [
        {
          "output_type": "execute_result",
          "data": {
            "text/plain": [
              "                    Qualification  Experience Rating  \\\n",
              "0           BHMS, MD - Homeopathy          24   100%   \n",
              "1    BAMS, MD - Ayurveda Medicine          12    98%   \n",
              "2  MBBS, MS - Otorhinolaryngology           9    NaN   \n",
              "3             BSc - Zoology, BAMS          12    NaN   \n",
              "4                            BAMS          20   100%   \n",
              "\n",
              "                          Place         Profile  \\\n",
              "0           Kakkanad, Ernakulam       Homeopath   \n",
              "1         Whitefield, Bangalore        Ayurveda   \n",
              "2    Mathikere - BEL, Bangalore  ENT Specialist   \n",
              "3  Bannerghatta Road, Bangalore        Ayurveda   \n",
              "4         Keelkattalai, Chennai        Ayurveda   \n",
              "\n",
              "                                  Miscellaneous_Info  Fees       Locality  \\\n",
              "0               100% 16 Feedback Kakkanad, Ernakulam   100      Kakkanad,   \n",
              "1              98% 76 Feedback Whitefield, Bangalore   350    Whitefield,   \n",
              "2                                                NaN   300      Mathikere   \n",
              "3  Bannerghatta Road, Bangalore ₹250 Available on...   250   Bannerghatta   \n",
              "4              100% 4 Feedback Keelkattalai, Chennai   250  Keelkattalai,   \n",
              "\n",
              "        city  \n",
              "0  Ernakulam  \n",
              "1  Bangalore  \n",
              "2          -  \n",
              "3      Road,  \n",
              "4    Chennai  "
            ],
            "text/html": [
              "\n",
              "  <div id=\"df-f710bdcd-0188-4416-90e3-1c17c29a5728\" class=\"colab-df-container\">\n",
              "    <div>\n",
              "<style scoped>\n",
              "    .dataframe tbody tr th:only-of-type {\n",
              "        vertical-align: middle;\n",
              "    }\n",
              "\n",
              "    .dataframe tbody tr th {\n",
              "        vertical-align: top;\n",
              "    }\n",
              "\n",
              "    .dataframe thead th {\n",
              "        text-align: right;\n",
              "    }\n",
              "</style>\n",
              "<table border=\"1\" class=\"dataframe\">\n",
              "  <thead>\n",
              "    <tr style=\"text-align: right;\">\n",
              "      <th></th>\n",
              "      <th>Qualification</th>\n",
              "      <th>Experience</th>\n",
              "      <th>Rating</th>\n",
              "      <th>Place</th>\n",
              "      <th>Profile</th>\n",
              "      <th>Miscellaneous_Info</th>\n",
              "      <th>Fees</th>\n",
              "      <th>Locality</th>\n",
              "      <th>city</th>\n",
              "    </tr>\n",
              "  </thead>\n",
              "  <tbody>\n",
              "    <tr>\n",
              "      <th>0</th>\n",
              "      <td>BHMS, MD - Homeopathy</td>\n",
              "      <td>24</td>\n",
              "      <td>100%</td>\n",
              "      <td>Kakkanad, Ernakulam</td>\n",
              "      <td>Homeopath</td>\n",
              "      <td>100% 16 Feedback Kakkanad, Ernakulam</td>\n",
              "      <td>100</td>\n",
              "      <td>Kakkanad,</td>\n",
              "      <td>Ernakulam</td>\n",
              "    </tr>\n",
              "    <tr>\n",
              "      <th>1</th>\n",
              "      <td>BAMS, MD - Ayurveda Medicine</td>\n",
              "      <td>12</td>\n",
              "      <td>98%</td>\n",
              "      <td>Whitefield, Bangalore</td>\n",
              "      <td>Ayurveda</td>\n",
              "      <td>98% 76 Feedback Whitefield, Bangalore</td>\n",
              "      <td>350</td>\n",
              "      <td>Whitefield,</td>\n",
              "      <td>Bangalore</td>\n",
              "    </tr>\n",
              "    <tr>\n",
              "      <th>2</th>\n",
              "      <td>MBBS, MS - Otorhinolaryngology</td>\n",
              "      <td>9</td>\n",
              "      <td>NaN</td>\n",
              "      <td>Mathikere - BEL, Bangalore</td>\n",
              "      <td>ENT Specialist</td>\n",
              "      <td>NaN</td>\n",
              "      <td>300</td>\n",
              "      <td>Mathikere</td>\n",
              "      <td>-</td>\n",
              "    </tr>\n",
              "    <tr>\n",
              "      <th>3</th>\n",
              "      <td>BSc - Zoology, BAMS</td>\n",
              "      <td>12</td>\n",
              "      <td>NaN</td>\n",
              "      <td>Bannerghatta Road, Bangalore</td>\n",
              "      <td>Ayurveda</td>\n",
              "      <td>Bannerghatta Road, Bangalore ₹250 Available on...</td>\n",
              "      <td>250</td>\n",
              "      <td>Bannerghatta</td>\n",
              "      <td>Road,</td>\n",
              "    </tr>\n",
              "    <tr>\n",
              "      <th>4</th>\n",
              "      <td>BAMS</td>\n",
              "      <td>20</td>\n",
              "      <td>100%</td>\n",
              "      <td>Keelkattalai, Chennai</td>\n",
              "      <td>Ayurveda</td>\n",
              "      <td>100% 4 Feedback Keelkattalai, Chennai</td>\n",
              "      <td>250</td>\n",
              "      <td>Keelkattalai,</td>\n",
              "      <td>Chennai</td>\n",
              "    </tr>\n",
              "  </tbody>\n",
              "</table>\n",
              "</div>\n",
              "    <div class=\"colab-df-buttons\">\n",
              "\n",
              "  <div class=\"colab-df-container\">\n",
              "    <button class=\"colab-df-convert\" onclick=\"convertToInteractive('df-f710bdcd-0188-4416-90e3-1c17c29a5728')\"\n",
              "            title=\"Convert this dataframe to an interactive table.\"\n",
              "            style=\"display:none;\">\n",
              "\n",
              "  <svg xmlns=\"http://www.w3.org/2000/svg\" height=\"24px\" viewBox=\"0 -960 960 960\">\n",
              "    <path d=\"M120-120v-720h720v720H120Zm60-500h600v-160H180v160Zm220 220h160v-160H400v160Zm0 220h160v-160H400v160ZM180-400h160v-160H180v160Zm440 0h160v-160H620v160ZM180-180h160v-160H180v160Zm440 0h160v-160H620v160Z\"/>\n",
              "  </svg>\n",
              "    </button>\n",
              "\n",
              "  <style>\n",
              "    .colab-df-container {\n",
              "      display:flex;\n",
              "      gap: 12px;\n",
              "    }\n",
              "\n",
              "    .colab-df-convert {\n",
              "      background-color: #E8F0FE;\n",
              "      border: none;\n",
              "      border-radius: 50%;\n",
              "      cursor: pointer;\n",
              "      display: none;\n",
              "      fill: #1967D2;\n",
              "      height: 32px;\n",
              "      padding: 0 0 0 0;\n",
              "      width: 32px;\n",
              "    }\n",
              "\n",
              "    .colab-df-convert:hover {\n",
              "      background-color: #E2EBFA;\n",
              "      box-shadow: 0px 1px 2px rgba(60, 64, 67, 0.3), 0px 1px 3px 1px rgba(60, 64, 67, 0.15);\n",
              "      fill: #174EA6;\n",
              "    }\n",
              "\n",
              "    .colab-df-buttons div {\n",
              "      margin-bottom: 4px;\n",
              "    }\n",
              "\n",
              "    [theme=dark] .colab-df-convert {\n",
              "      background-color: #3B4455;\n",
              "      fill: #D2E3FC;\n",
              "    }\n",
              "\n",
              "    [theme=dark] .colab-df-convert:hover {\n",
              "      background-color: #434B5C;\n",
              "      box-shadow: 0px 1px 3px 1px rgba(0, 0, 0, 0.15);\n",
              "      filter: drop-shadow(0px 1px 2px rgba(0, 0, 0, 0.3));\n",
              "      fill: #FFFFFF;\n",
              "    }\n",
              "  </style>\n",
              "\n",
              "    <script>\n",
              "      const buttonEl =\n",
              "        document.querySelector('#df-f710bdcd-0188-4416-90e3-1c17c29a5728 button.colab-df-convert');\n",
              "      buttonEl.style.display =\n",
              "        google.colab.kernel.accessAllowed ? 'block' : 'none';\n",
              "\n",
              "      async function convertToInteractive(key) {\n",
              "        const element = document.querySelector('#df-f710bdcd-0188-4416-90e3-1c17c29a5728');\n",
              "        const dataTable =\n",
              "          await google.colab.kernel.invokeFunction('convertToInteractive',\n",
              "                                                    [key], {});\n",
              "        if (!dataTable) return;\n",
              "\n",
              "        const docLinkHtml = 'Like what you see? Visit the ' +\n",
              "          '<a target=\"_blank\" href=https://colab.research.google.com/notebooks/data_table.ipynb>data table notebook</a>'\n",
              "          + ' to learn more about interactive tables.';\n",
              "        element.innerHTML = '';\n",
              "        dataTable['output_type'] = 'display_data';\n",
              "        await google.colab.output.renderOutput(dataTable, element);\n",
              "        const docLink = document.createElement('div');\n",
              "        docLink.innerHTML = docLinkHtml;\n",
              "        element.appendChild(docLink);\n",
              "      }\n",
              "    </script>\n",
              "  </div>\n",
              "\n",
              "\n",
              "<div id=\"df-ca3dc7f7-311d-4660-8862-032488ed1b54\">\n",
              "  <button class=\"colab-df-quickchart\" onclick=\"quickchart('df-ca3dc7f7-311d-4660-8862-032488ed1b54')\"\n",
              "            title=\"Suggest charts\"\n",
              "            style=\"display:none;\">\n",
              "\n",
              "<svg xmlns=\"http://www.w3.org/2000/svg\" height=\"24px\"viewBox=\"0 0 24 24\"\n",
              "     width=\"24px\">\n",
              "    <g>\n",
              "        <path d=\"M19 3H5c-1.1 0-2 .9-2 2v14c0 1.1.9 2 2 2h14c1.1 0 2-.9 2-2V5c0-1.1-.9-2-2-2zM9 17H7v-7h2v7zm4 0h-2V7h2v10zm4 0h-2v-4h2v4z\"/>\n",
              "    </g>\n",
              "</svg>\n",
              "  </button>\n",
              "\n",
              "<style>\n",
              "  .colab-df-quickchart {\n",
              "      --bg-color: #E8F0FE;\n",
              "      --fill-color: #1967D2;\n",
              "      --hover-bg-color: #E2EBFA;\n",
              "      --hover-fill-color: #174EA6;\n",
              "      --disabled-fill-color: #AAA;\n",
              "      --disabled-bg-color: #DDD;\n",
              "  }\n",
              "\n",
              "  [theme=dark] .colab-df-quickchart {\n",
              "      --bg-color: #3B4455;\n",
              "      --fill-color: #D2E3FC;\n",
              "      --hover-bg-color: #434B5C;\n",
              "      --hover-fill-color: #FFFFFF;\n",
              "      --disabled-bg-color: #3B4455;\n",
              "      --disabled-fill-color: #666;\n",
              "  }\n",
              "\n",
              "  .colab-df-quickchart {\n",
              "    background-color: var(--bg-color);\n",
              "    border: none;\n",
              "    border-radius: 50%;\n",
              "    cursor: pointer;\n",
              "    display: none;\n",
              "    fill: var(--fill-color);\n",
              "    height: 32px;\n",
              "    padding: 0;\n",
              "    width: 32px;\n",
              "  }\n",
              "\n",
              "  .colab-df-quickchart:hover {\n",
              "    background-color: var(--hover-bg-color);\n",
              "    box-shadow: 0 1px 2px rgba(60, 64, 67, 0.3), 0 1px 3px 1px rgba(60, 64, 67, 0.15);\n",
              "    fill: var(--button-hover-fill-color);\n",
              "  }\n",
              "\n",
              "  .colab-df-quickchart-complete:disabled,\n",
              "  .colab-df-quickchart-complete:disabled:hover {\n",
              "    background-color: var(--disabled-bg-color);\n",
              "    fill: var(--disabled-fill-color);\n",
              "    box-shadow: none;\n",
              "  }\n",
              "\n",
              "  .colab-df-spinner {\n",
              "    border: 2px solid var(--fill-color);\n",
              "    border-color: transparent;\n",
              "    border-bottom-color: var(--fill-color);\n",
              "    animation:\n",
              "      spin 1s steps(1) infinite;\n",
              "  }\n",
              "\n",
              "  @keyframes spin {\n",
              "    0% {\n",
              "      border-color: transparent;\n",
              "      border-bottom-color: var(--fill-color);\n",
              "      border-left-color: var(--fill-color);\n",
              "    }\n",
              "    20% {\n",
              "      border-color: transparent;\n",
              "      border-left-color: var(--fill-color);\n",
              "      border-top-color: var(--fill-color);\n",
              "    }\n",
              "    30% {\n",
              "      border-color: transparent;\n",
              "      border-left-color: var(--fill-color);\n",
              "      border-top-color: var(--fill-color);\n",
              "      border-right-color: var(--fill-color);\n",
              "    }\n",
              "    40% {\n",
              "      border-color: transparent;\n",
              "      border-right-color: var(--fill-color);\n",
              "      border-top-color: var(--fill-color);\n",
              "    }\n",
              "    60% {\n",
              "      border-color: transparent;\n",
              "      border-right-color: var(--fill-color);\n",
              "    }\n",
              "    80% {\n",
              "      border-color: transparent;\n",
              "      border-right-color: var(--fill-color);\n",
              "      border-bottom-color: var(--fill-color);\n",
              "    }\n",
              "    90% {\n",
              "      border-color: transparent;\n",
              "      border-bottom-color: var(--fill-color);\n",
              "    }\n",
              "  }\n",
              "</style>\n",
              "\n",
              "  <script>\n",
              "    async function quickchart(key) {\n",
              "      const quickchartButtonEl =\n",
              "        document.querySelector('#' + key + ' button');\n",
              "      quickchartButtonEl.disabled = true;  // To prevent multiple clicks.\n",
              "      quickchartButtonEl.classList.add('colab-df-spinner');\n",
              "      try {\n",
              "        const charts = await google.colab.kernel.invokeFunction(\n",
              "            'suggestCharts', [key], {});\n",
              "      } catch (error) {\n",
              "        console.error('Error during call to suggestCharts:', error);\n",
              "      }\n",
              "      quickchartButtonEl.classList.remove('colab-df-spinner');\n",
              "      quickchartButtonEl.classList.add('colab-df-quickchart-complete');\n",
              "    }\n",
              "    (() => {\n",
              "      let quickchartButtonEl =\n",
              "        document.querySelector('#df-ca3dc7f7-311d-4660-8862-032488ed1b54 button');\n",
              "      quickchartButtonEl.style.display =\n",
              "        google.colab.kernel.accessAllowed ? 'block' : 'none';\n",
              "    })();\n",
              "  </script>\n",
              "</div>\n",
              "\n",
              "    </div>\n",
              "  </div>\n"
            ],
            "application/vnd.google.colaboratory.intrinsic+json": {
              "type": "dataframe",
              "variable_name": "train",
              "summary": "{\n  \"name\": \"train\",\n  \"rows\": 5961,\n  \"fields\": [\n    {\n      \"column\": \"Qualification\",\n      \"properties\": {\n        \"dtype\": \"category\",\n        \"num_unique_values\": 1420,\n        \"samples\": [\n          \"MBBS, MD - General Medicine, FRCP, Doctor of Science (DSc.), D.LITT - Diabetology\",\n          \"BDS, MDS - Periodontics, Diploma in Implanthology\",\n          \"DHMS (Diploma in Homeopathic Medicine and Surgery), MD - Homeopathy, Doctor of Homeopathic Medicine (HMD)\"\n        ],\n        \"semantic_type\": \"\",\n        \"description\": \"\"\n      }\n    },\n    {\n      \"column\": \"Experience\",\n      \"properties\": {\n        \"dtype\": \"number\",\n        \"std\": 11,\n        \"min\": 0,\n        \"max\": 66,\n        \"num_unique_values\": 64,\n        \"samples\": [\n          2,\n          61,\n          24\n        ],\n        \"semantic_type\": \"\",\n        \"description\": \"\"\n      }\n    },\n    {\n      \"column\": \"Rating\",\n      \"properties\": {\n        \"dtype\": \"category\",\n        \"num_unique_values\": 51,\n        \"samples\": [\n          \"48%\",\n          \"62%\",\n          \"64%\"\n        ],\n        \"semantic_type\": \"\",\n        \"description\": \"\"\n      }\n    },\n    {\n      \"column\": \"Place\",\n      \"properties\": {\n        \"dtype\": \"category\",\n        \"num_unique_values\": 878,\n        \"samples\": [\n          \"Alandur, Chennai\",\n          \"Ambalamukku, Thiruvananthapuram\",\n          \"Balanagar, Hyderabad\"\n        ],\n        \"semantic_type\": \"\",\n        \"description\": \"\"\n      }\n    },\n    {\n      \"column\": \"Profile\",\n      \"properties\": {\n        \"dtype\": \"category\",\n        \"num_unique_values\": 6,\n        \"samples\": [\n          \"Homeopath\",\n          \"Ayurveda\",\n          \"Dermatologists\"\n        ],\n        \"semantic_type\": \"\",\n        \"description\": \"\"\n      }\n    },\n    {\n      \"column\": \"Miscellaneous_Info\",\n      \"properties\": {\n        \"dtype\": \"string\",\n        \"num_unique_values\": 2998,\n        \"samples\": [\n          \"97% 4 Feedback Rajakilpakkam, Chennai\",\n          \"Skin Care Skin Disease Treatment Skin Rash Treatment\",\n          \"Skin Disease Treatment Weight Loss Diet Counseling Hair Loss Treatment\"\n        ],\n        \"semantic_type\": \"\",\n        \"description\": \"\"\n      }\n    },\n    {\n      \"column\": \"Fees\",\n      \"properties\": {\n        \"dtype\": \"number\",\n        \"std\": 190,\n        \"min\": 5,\n        \"max\": 950,\n        \"num_unique_values\": 40,\n        \"samples\": [\n          950,\n          60,\n          80\n        ],\n        \"semantic_type\": \"\",\n        \"description\": \"\"\n      }\n    },\n    {\n      \"column\": \"Locality\",\n      \"properties\": {\n        \"dtype\": \"category\",\n        \"num_unique_values\": 761,\n        \"samples\": [\n          \"Vidyaranyapura,\",\n          \"Sowripalayam,\",\n          \"Vyttila,\"\n        ],\n        \"semantic_type\": \"\",\n        \"description\": \"\"\n      }\n    },\n    {\n      \"column\": \"city\",\n      \"properties\": {\n        \"dtype\": \"category\",\n        \"num_unique_values\": 128,\n        \"samples\": [\n          \"Hazari,\",\n          \"Ganj,\",\n          \"Colony,\"\n        ],\n        \"semantic_type\": \"\",\n        \"description\": \"\"\n      }\n    }\n  ]\n}"
            }
          },
          "metadata": {},
          "execution_count": 16
        }
      ]
    },
    {
      "cell_type": "code",
      "source": [
        "train.drop('Place', axis = 1 , inplace = True)"
      ],
      "metadata": {
        "id": "9ecK4ybeghFI"
      },
      "execution_count": 17,
      "outputs": []
    },
    {
      "cell_type": "code",
      "source": [
        "train['Rating'].fillna('-1%', inplace = True)"
      ],
      "metadata": {
        "id": "QLIOGDzEgp5j"
      },
      "execution_count": 18,
      "outputs": []
    },
    {
      "cell_type": "code",
      "source": [
        "train.isnull().sum()"
      ],
      "metadata": {
        "colab": {
          "base_uri": "https://localhost:8080/"
        },
        "id": "LhTfM--RhATb",
        "outputId": "c278aecd-cc9f-497f-c986-3f32bc9aed54"
      },
      "execution_count": 19,
      "outputs": [
        {
          "output_type": "execute_result",
          "data": {
            "text/plain": [
              "Qualification            0\n",
              "Experience               0\n",
              "Rating                   0\n",
              "Profile                  0\n",
              "Miscellaneous_Info    2620\n",
              "Fees                     0\n",
              "Locality                 0\n",
              "city                    26\n",
              "dtype: int64"
            ]
          },
          "metadata": {},
          "execution_count": 19
        }
      ]
    },
    {
      "cell_type": "code",
      "source": [
        "train['Rating'] = train['Rating'].str.slice(stop = -1).astype(int)"
      ],
      "metadata": {
        "id": "ByXZflnYhIai"
      },
      "execution_count": 20,
      "outputs": []
    },
    {
      "cell_type": "code",
      "source": [
        "bins = [-1, 0, 10, 20, 30, 40, 50,60, 70, 80, 90, 100]\n",
        "labels=[ i for i in range(11)]\n",
        "train['Rating'] = pd.cut(train['Rating'], bins = bins, labels=labels)"
      ],
      "metadata": {
        "id": "iKUb6_brhqFJ"
      },
      "execution_count": 21,
      "outputs": []
    },
    {
      "cell_type": "code",
      "source": [
        "train['Rating'].value_counts().sort_index()"
      ],
      "metadata": {
        "colab": {
          "base_uri": "https://localhost:8080/"
        },
        "id": "fUHq9UEUiAuX",
        "outputId": "fe5106ee-ce46-4305-bd44-9464b50e78dc"
      },
      "execution_count": 22,
      "outputs": [
        {
          "output_type": "execute_result",
          "data": {
            "text/plain": [
              "0        0\n",
              "1        1\n",
              "2        0\n",
              "3        0\n",
              "4        4\n",
              "5        3\n",
              "6       19\n",
              "7       32\n",
              "8       98\n",
              "9      280\n",
              "10    2222\n",
              "Name: Rating, dtype: int64"
            ]
          },
          "metadata": {},
          "execution_count": 22
        }
      ]
    },
    {
      "cell_type": "code",
      "source": [
        "train.columns"
      ],
      "metadata": {
        "colab": {
          "base_uri": "https://localhost:8080/"
        },
        "id": "NdbZFYsDif8u",
        "outputId": "a10f2d9d-cbaa-49fe-8f03-c5159d313914"
      },
      "execution_count": 23,
      "outputs": [
        {
          "output_type": "execute_result",
          "data": {
            "text/plain": [
              "Index(['Qualification', 'Experience', 'Rating', 'Profile',\n",
              "       'Miscellaneous_Info', 'Fees', 'Locality', 'city'],\n",
              "      dtype='object')"
            ]
          },
          "metadata": {},
          "execution_count": 23
        }
      ]
    },
    {
      "cell_type": "code",
      "source": [
        "train['Qualification_count'] = train['Qualification'].apply(lambda x: len(x.split(\",\")))\n",
        "train[train['Qualification_count']== 10]"
      ],
      "metadata": {
        "colab": {
          "base_uri": "https://localhost:8080/",
          "height": 153
        },
        "id": "Qby39SH2imT4",
        "outputId": "cd79b6df-83a2-43e4-cb24-e64e5d9d97c0"
      },
      "execution_count": 24,
      "outputs": [
        {
          "output_type": "execute_result",
          "data": {
            "text/plain": [
              "                                          Qualification  Experience Rating  \\\n",
              "2035  Fellowship in Oral implantlogy, Certified Adva...          22     10   \n",
              "\n",
              "      Profile                                 Miscellaneous_Info  Fees  \\\n",
              "2035  Dentist  RCT - Root Canal Treatment Cosmetic/ Aesthetic...   300   \n",
              "\n",
              "     Locality    city  Qualification_count  \n",
              "2035    Ashok  Nagar,                   10  "
            ],
            "text/html": [
              "\n",
              "  <div id=\"df-e2ff93c3-b765-4f50-b475-baedeb68d340\" class=\"colab-df-container\">\n",
              "    <div>\n",
              "<style scoped>\n",
              "    .dataframe tbody tr th:only-of-type {\n",
              "        vertical-align: middle;\n",
              "    }\n",
              "\n",
              "    .dataframe tbody tr th {\n",
              "        vertical-align: top;\n",
              "    }\n",
              "\n",
              "    .dataframe thead th {\n",
              "        text-align: right;\n",
              "    }\n",
              "</style>\n",
              "<table border=\"1\" class=\"dataframe\">\n",
              "  <thead>\n",
              "    <tr style=\"text-align: right;\">\n",
              "      <th></th>\n",
              "      <th>Qualification</th>\n",
              "      <th>Experience</th>\n",
              "      <th>Rating</th>\n",
              "      <th>Profile</th>\n",
              "      <th>Miscellaneous_Info</th>\n",
              "      <th>Fees</th>\n",
              "      <th>Locality</th>\n",
              "      <th>city</th>\n",
              "      <th>Qualification_count</th>\n",
              "    </tr>\n",
              "  </thead>\n",
              "  <tbody>\n",
              "    <tr>\n",
              "      <th>2035</th>\n",
              "      <td>Fellowship in Oral implantlogy, Certified Adva...</td>\n",
              "      <td>22</td>\n",
              "      <td>10</td>\n",
              "      <td>Dentist</td>\n",
              "      <td>RCT - Root Canal Treatment Cosmetic/ Aesthetic...</td>\n",
              "      <td>300</td>\n",
              "      <td>Ashok</td>\n",
              "      <td>Nagar,</td>\n",
              "      <td>10</td>\n",
              "    </tr>\n",
              "  </tbody>\n",
              "</table>\n",
              "</div>\n",
              "    <div class=\"colab-df-buttons\">\n",
              "\n",
              "  <div class=\"colab-df-container\">\n",
              "    <button class=\"colab-df-convert\" onclick=\"convertToInteractive('df-e2ff93c3-b765-4f50-b475-baedeb68d340')\"\n",
              "            title=\"Convert this dataframe to an interactive table.\"\n",
              "            style=\"display:none;\">\n",
              "\n",
              "  <svg xmlns=\"http://www.w3.org/2000/svg\" height=\"24px\" viewBox=\"0 -960 960 960\">\n",
              "    <path d=\"M120-120v-720h720v720H120Zm60-500h600v-160H180v160Zm220 220h160v-160H400v160Zm0 220h160v-160H400v160ZM180-400h160v-160H180v160Zm440 0h160v-160H620v160ZM180-180h160v-160H180v160Zm440 0h160v-160H620v160Z\"/>\n",
              "  </svg>\n",
              "    </button>\n",
              "\n",
              "  <style>\n",
              "    .colab-df-container {\n",
              "      display:flex;\n",
              "      gap: 12px;\n",
              "    }\n",
              "\n",
              "    .colab-df-convert {\n",
              "      background-color: #E8F0FE;\n",
              "      border: none;\n",
              "      border-radius: 50%;\n",
              "      cursor: pointer;\n",
              "      display: none;\n",
              "      fill: #1967D2;\n",
              "      height: 32px;\n",
              "      padding: 0 0 0 0;\n",
              "      width: 32px;\n",
              "    }\n",
              "\n",
              "    .colab-df-convert:hover {\n",
              "      background-color: #E2EBFA;\n",
              "      box-shadow: 0px 1px 2px rgba(60, 64, 67, 0.3), 0px 1px 3px 1px rgba(60, 64, 67, 0.15);\n",
              "      fill: #174EA6;\n",
              "    }\n",
              "\n",
              "    .colab-df-buttons div {\n",
              "      margin-bottom: 4px;\n",
              "    }\n",
              "\n",
              "    [theme=dark] .colab-df-convert {\n",
              "      background-color: #3B4455;\n",
              "      fill: #D2E3FC;\n",
              "    }\n",
              "\n",
              "    [theme=dark] .colab-df-convert:hover {\n",
              "      background-color: #434B5C;\n",
              "      box-shadow: 0px 1px 3px 1px rgba(0, 0, 0, 0.15);\n",
              "      filter: drop-shadow(0px 1px 2px rgba(0, 0, 0, 0.3));\n",
              "      fill: #FFFFFF;\n",
              "    }\n",
              "  </style>\n",
              "\n",
              "    <script>\n",
              "      const buttonEl =\n",
              "        document.querySelector('#df-e2ff93c3-b765-4f50-b475-baedeb68d340 button.colab-df-convert');\n",
              "      buttonEl.style.display =\n",
              "        google.colab.kernel.accessAllowed ? 'block' : 'none';\n",
              "\n",
              "      async function convertToInteractive(key) {\n",
              "        const element = document.querySelector('#df-e2ff93c3-b765-4f50-b475-baedeb68d340');\n",
              "        const dataTable =\n",
              "          await google.colab.kernel.invokeFunction('convertToInteractive',\n",
              "                                                    [key], {});\n",
              "        if (!dataTable) return;\n",
              "\n",
              "        const docLinkHtml = 'Like what you see? Visit the ' +\n",
              "          '<a target=\"_blank\" href=https://colab.research.google.com/notebooks/data_table.ipynb>data table notebook</a>'\n",
              "          + ' to learn more about interactive tables.';\n",
              "        element.innerHTML = '';\n",
              "        dataTable['output_type'] = 'display_data';\n",
              "        await google.colab.output.renderOutput(dataTable, element);\n",
              "        const docLink = document.createElement('div');\n",
              "        docLink.innerHTML = docLinkHtml;\n",
              "        element.appendChild(docLink);\n",
              "      }\n",
              "    </script>\n",
              "  </div>\n",
              "\n",
              "\n",
              "    </div>\n",
              "  </div>\n"
            ],
            "application/vnd.google.colaboratory.intrinsic+json": {
              "type": "dataframe",
              "summary": "{\n  \"name\": \"train[train['Qualification_count']== 10]\",\n  \"rows\": 1,\n  \"fields\": [\n    {\n      \"column\": \"Qualification\",\n      \"properties\": {\n        \"dtype\": \"string\",\n        \"num_unique_values\": 1,\n        \"samples\": [\n          \"Fellowship in Oral implantlogy, Certified Advance Course In Endodontics, Certified in Orthodontics, Certification in Full Mouth Rehabilitation, Certified BPS Dentist, Certificate in Cosmetic Dentistry, Professional Implantology Training Course (PITC), Fellowship in Advanced Endoscopic Sinus Surgery, Degree in Dental Implant, Fellowship in Lasers & Cosmetology\"\n        ],\n        \"semantic_type\": \"\",\n        \"description\": \"\"\n      }\n    },\n    {\n      \"column\": \"Experience\",\n      \"properties\": {\n        \"dtype\": \"number\",\n        \"std\": null,\n        \"min\": 22,\n        \"max\": 22,\n        \"num_unique_values\": 1,\n        \"samples\": [\n          22\n        ],\n        \"semantic_type\": \"\",\n        \"description\": \"\"\n      }\n    },\n    {\n      \"column\": \"Rating\",\n      \"properties\": {\n        \"dtype\": \"category\",\n        \"num_unique_values\": 1,\n        \"samples\": [\n          10\n        ],\n        \"semantic_type\": \"\",\n        \"description\": \"\"\n      }\n    },\n    {\n      \"column\": \"Profile\",\n      \"properties\": {\n        \"dtype\": \"string\",\n        \"num_unique_values\": 1,\n        \"samples\": [\n          \"Dentist\"\n        ],\n        \"semantic_type\": \"\",\n        \"description\": \"\"\n      }\n    },\n    {\n      \"column\": \"Miscellaneous_Info\",\n      \"properties\": {\n        \"dtype\": \"string\",\n        \"num_unique_values\": 1,\n        \"samples\": [\n          \"RCT - Root Canal Treatment Cosmetic/ Aesthetic Dentistry View all 5 services\"\n        ],\n        \"semantic_type\": \"\",\n        \"description\": \"\"\n      }\n    },\n    {\n      \"column\": \"Fees\",\n      \"properties\": {\n        \"dtype\": \"number\",\n        \"std\": null,\n        \"min\": 300,\n        \"max\": 300,\n        \"num_unique_values\": 1,\n        \"samples\": [\n          300\n        ],\n        \"semantic_type\": \"\",\n        \"description\": \"\"\n      }\n    },\n    {\n      \"column\": \"Locality\",\n      \"properties\": {\n        \"dtype\": \"string\",\n        \"num_unique_values\": 1,\n        \"samples\": [\n          \"Ashok\"\n        ],\n        \"semantic_type\": \"\",\n        \"description\": \"\"\n      }\n    },\n    {\n      \"column\": \"city\",\n      \"properties\": {\n        \"dtype\": \"string\",\n        \"num_unique_values\": 1,\n        \"samples\": [\n          \"Nagar,\"\n        ],\n        \"semantic_type\": \"\",\n        \"description\": \"\"\n      }\n    },\n    {\n      \"column\": \"Qualification_count\",\n      \"properties\": {\n        \"dtype\": \"number\",\n        \"std\": null,\n        \"min\": 10,\n        \"max\": 10,\n        \"num_unique_values\": 1,\n        \"samples\": [\n          10\n        ],\n        \"semantic_type\": \"\",\n        \"description\": \"\"\n      }\n    }\n  ]\n}"
            }
          },
          "metadata": {},
          "execution_count": 24
        }
      ]
    },
    {
      "cell_type": "code",
      "source": [
        "train['Qualification'].nunique()"
      ],
      "metadata": {
        "colab": {
          "base_uri": "https://localhost:8080/"
        },
        "id": "cLp6Bn5IE6N5",
        "outputId": "d808a56d-c244-4de4-825c-4bb0b47fa365"
      },
      "execution_count": 25,
      "outputs": [
        {
          "output_type": "execute_result",
          "data": {
            "text/plain": [
              "1420"
            ]
          },
          "metadata": {},
          "execution_count": 25
        }
      ]
    },
    {
      "cell_type": "code",
      "source": [
        "train['Qualification'].head(5)"
      ],
      "metadata": {
        "colab": {
          "base_uri": "https://localhost:8080/"
        },
        "id": "mB_mxIDyGKM9",
        "outputId": "2b7995a5-3474-4b16-f309-6788e7cb92fe"
      },
      "execution_count": 26,
      "outputs": [
        {
          "output_type": "execute_result",
          "data": {
            "text/plain": [
              "0             BHMS, MD - Homeopathy\n",
              "1      BAMS, MD - Ayurveda Medicine\n",
              "2    MBBS, MS - Otorhinolaryngology\n",
              "3               BSc - Zoology, BAMS\n",
              "4                              BAMS\n",
              "Name: Qualification, dtype: object"
            ]
          },
          "metadata": {},
          "execution_count": 26
        }
      ]
    },
    {
      "cell_type": "code",
      "source": [
        "train['Qualification'] = train['Qualification'].str.split(\",\")\n",
        "Qualification = {}\n",
        "for x in train['Qualification'].values:\n",
        "  for qual in x:\n",
        "    qual = qual.strip()\n",
        "    if qual in Qualification:\n",
        "      Qualification[qual] +=1\n",
        "    else:\n",
        "      Qualification[qual] = 1"
      ],
      "metadata": {
        "id": "GXz6jUN7FEMu"
      },
      "execution_count": 27,
      "outputs": []
    },
    {
      "cell_type": "code",
      "source": [
        "print(Qualification)"
      ],
      "metadata": {
        "colab": {
          "base_uri": "https://localhost:8080/"
        },
        "id": "LfoKMKt8G1c3",
        "outputId": "b8f234dc-26ca-4a56-c58e-e9d221e0da2b"
      },
      "execution_count": 28,
      "outputs": [
        {
          "output_type": "stream",
          "name": "stdout",
          "text": [
            "{'BHMS': 749, 'MD - Homeopathy': 181, 'BAMS': 764, 'MD - Ayurveda Medicine': 139, 'MBBS': 2808, 'MS - Otorhinolaryngology': 103, 'BSc - Zoology': 3, 'BDS': 1363, 'MD - General Medicine': 285, 'BSc': 3, 'MS': 2, 'DNB - ENT': 111, 'MDS': 82, 'MDS - Oral & Maxillofacial Surgery': 104, 'Diploma in Otorhinolaryngology (DLO)': 250, 'MF- Homeopathy': 5, 'MS - ENT': 411, 'DNB': 58, 'Fellowship of College of General Practice (FCGP)': 13, 'DDVL': 161, 'IBCLC (USA)': 1, 'Post Graduate Diploma in Diabetology (PGDD)': 53, 'Diploma in Dermatology': 67, 'Fellowship in Aesthetic Medicine': 23, 'DM - Neurology': 6, 'MD - Pediatrics': 13, 'Fellowship in Cleft Lip and Craniofacial Surgery': 1, 'Diploma in Cosmetology': 3, 'AFIH': 4, 'MDS - Prosthodontist And Crown Bridge': 45, 'M. D. Hom. (Practice of Medicine)': 2, 'Diploma in Emergency Medicine': 8, 'Diploma in Counselling Skills': 2, 'DHMS (Diploma in Homeopathic Medicine and Surgery)': 47, 'MD - Dermatology': 606, 'Venereology & Leprosy': 297, 'MDS - Oral and Maxillofacial Pathology': 1, 'MFDS RCS': 4, 'MRCS (UK)': 15, 'FRGUHS': 22, 'Fellowship in Dermatological Laser Surgery': 10, 'Member of the Royal College of Physicians': 4, 'UK (MRCP UK)': 4, 'MNAMS- Family Medicine': 1, 'MD - Medicine': 72, 'MS - Psychology': 15, 'Diploma In Skin Aesthetics': 4, 'MDS - Periodontology and Oral Implantology': 47, 'Certificate in Cosmetic Dentistry': 8, 'Post Graduate Certificate in Endodontics (PGCE)': 6, 'Fellow of Academy of General Education (FAGE)': 23, 'MD - Rheumatology': 2, 'MDS - Paedodontics And Preventive Dentistry': 47, 'MDS-Oral Pathology and Oral Microbiology': 10, 'FRCP': 15, 'Doctor of Science (DSc.)': 1, 'D.LITT - Diabetology': 1, 'DDV': 129, 'MDS - Conservative Dentistry & Endodontics': 107, 'FICD': 4, 'Post Graduate Diploma in Emergency Services (PGDEMS)': 10, 'Get inspired by remarkable stories of people like you': 24, 'MD - Acupuncture': 6, 'Master of Hospital Administration': 3, 'BA': 1, 'MDS - Periodontics': 46, 'PGD in Endodontics': 1, 'MDS - Pedodontics': 30, 'PhD - Orthodontics & Dentofacial Orthopaedics': 26, 'MOrth': 2, 'MS - Ayurveda': 29, 'MRCPS': 5, 'P.G Diploma in Aesthetic Dentistry': 1, 'MD - Tuberculosis & Respiratory Diseases/Medicine': 3, 'MS - General Surgery': 40, 'Diploma in Health Administration': 9, 'MD - Skin & VD': 27, 'FAMS - Fellowship of the Academy Medicine': 3, 'MD - Internal Medicine': 71, 'DNB - Internal Medicine': 12, 'FRCS - General Surgery': 11, 'PhD - Homoeopathy': 2, 'Certificate in Dental Implants': 32, 'MDS - Orthodontics and Dentofacial Orthopaedics': 44, 'DNB - Family Medicine': 10, 'MS - Pediatric': 1, 'Member of the Royal Society for the Promotion of Health (UK) (MRSH)': 3, 'Post Graduate Diploma in Endocrinology': 5, 'MDS - Prosthodontics': 74, 'M.Sc.- Clinical Nutrition and Dietetics': 1, 'MSc - Psychotherapy And Counselling': 5, 'MS (Shalyatantra)': 1, 'MSc - Yoga': 4, 'DLO': 17, 'Post Graduate Diploma in Advanced Implantology': 1, 'MD - Alternate Medicine': 19, 'Post Graduate Diploma in Counselling & Psychotherapy': 1, 'MS - Counselling & Psychotherapy': 3, 'PhD - Alternative Medicine': 1, 'Fellowship in Oral implantlogy': 16, 'Diploma in Personal Counselling Skills (DPCS)': 1, 'DNB - Dermatology': 11, 'GCEH': 2, 'Certification in Personal Counsling': 1, 'Post Graduate Diploma in Healthcare Management(PGDHM)': 6, 'Fellowship in Lasers & Cosmetology': 2, 'Fellowship In Anti-Aging And Aesthetic Medicine': 2, 'Diploma in Practical Dermatology': 5, 'Fellow Hair Transplant Surgery': 4, 'Fellowship in Lasers & Advanced Dermatology': 1, 'DNB - Paediatrics': 4, 'MRCPCH (UK)': 3, 'MDS - Oral Medicine and Radiology': 26, 'Diploma in Obesity managemnt': 1, 'Certificate Course In Therapeutic Yoga': 1, 'DNB - Nephrology': 4, 'Certification in Aesthetic Dentistry': 10, 'MRCP': 1, 'Fellowship In Laryngology Bronchoesophagology': 3, 'FAGE': 4, 'Diploma in Medical Radio-Diagnosis': 4, 'Certification in Full Mouth Rehabilitation': 6, 'Diploma in Acupuncture': 9, 'Diploma in Naturopathy & Yogic Science (DNYS)': 3, 'Fellowship in Minimal Access Surgery': 3, 'DGO': 17, 'Diplomate in Oral Implantology': 2, 'Masters in Oral Implantology': 1, 'Implant Externship Program': 2, 'Fellowship in Implantology': 6, 'M.S. (Ayurved) Stri Roga & Prasuti Tantra': 1, 'MS - Ayurvedic Gynecology & Obstetrics': 2, 'MD - Pathology': 3, 'Fellowship in Rheumatology': 4, 'MBA': 7, 'D.Y.A': 6, 'DVD': 46, 'Diploma in Public Health': 3, 'PhD- Ayurveda': 13, 'DM - Critical Care Medicine': 1, 'Post Graduate Course in Diabetology': 7, 'DNB - Otorhinolaryngology': 45, 'BSAM': 7, 'Certificate Course in Sports and Fitness Nutrition': 2, 'Diploma in Advanced Skin and Hair Treatments': 1, 'Doctor of Medicine (Alternate Medicine)': 2, 'Certificate in Cosmetology': 2, 'MD - Skin': 13, 'VD & Leprosy': 13, 'MDS - Public Health Dentistry': 5, 'Post Graduate Diploma In Yoga': 5, 'Diploma in ENT': 3, 'MA': 2, 'DNHE': 9, 'Diploma in Endoscopy': 1, 'Diploma in Anesthesiology': 7, 'MRCGP': 8, 'MDS - Orthodontics': 68, 'MD - Microbiology': 3, 'Post-Graduate Certificate in Oral Implantology (PGCOI)': 12, 'DO': 4, 'Diploma in Naturopathy & Yoga (NDDY)': 4, 'DNB - Dermatology & Venereology': 88, 'Diploma in Dermatology & Venerology': 5, 'DPM (Psychiatry)': 3, 'M.D. (Psychiatry)': 6, 'MD - Pharmacology': 6, 'Diploma in Diabetology': 3, 'Fellowship in Diabetology(Royal Liverpool University Hospital': 1, 'UK)': 8, 'Diploma in Family Medicine (DFM)': 8, 'Post Graduate Diploma in Clinical Research (PGDCR)': 8, 'F.A.G.E': 1, 'Diploma In Clinical Panchakarma': 1, 'Diploma in Child Health (DCH)': 20, 'DNB - Pediatrics': 2, 'DAA - Diploma in Allergy Asthma and Immunology': 3, 'MS - Endocrinology & Diabetes': 1, 'DM - Cardiology': 11, 'FNB - Infectious Disease': 1, 'DNB - General Medicine': 38, 'Diploma in Tuberculosis and Chest Diseases (DTCD)': 8, 'Division of Clinical Psychology (DCP)': 2, 'MSc - Master of Oral Implantology (MOI)': 4, 'MD - Oncology': 1, 'FCPS - Dermatology': 13, 'Certificate in Child Health (CCH)': 19, 'Masters in Counselling and Psychotherapy': 2, 'Diploma in Rheumatology': 1, 'MCP(UCLA-USA)': 1, 'PhD - Neuropsychology': 1, 'Fellowship in ENT': 1, 'Diploma In Naturopathy (ND)': 6, 'PG Diploma in Sexual Medicine': 1, 'Diploma in Medical Law and Ethics (PGDMLE)': 2, 'MRCP (UK)': 21, 'MBA (Health Care)': 2, 'Diplomate of American board of hair restoration surgery': 1, 'Post Graduate Diploma in Diabetes': 1, 'MNAMS - Plastic Surgery': 1, 'Certified in Hair Transplantation': 2, 'PG Diploma In Clinical Cosmetology (PGDCC)': 13, 'DORL (ENT)': 5, 'IDCC (ISCCM)': 1, 'MD - Family Medicine': 4, 'Master of Public Health (MPH)': 4, 'Diploma in Cardiology': 5, 'Fellowship In Cosmetic Dermatology': 7, 'MD - Anaesthesiology': 6, 'Ayurvedic panchkarma': 3, 'Post Graduate Diploma in Dermotology (PGDD)': 1, 'Certificate of Oral Implantology': 14, 'Certification in Laser Dentistry': 6, \"Dip' NMD\": 1, 'PGMHA': 2, 'Diploma in Hospital Management': 5, 'Certificate Course in Management of Thyroid Disorder': 4, 'Fellowship in Diabetology(Boston School of Medicine': 1, 'USA)': 3, 'PGDHHM': 6, 'Post Graduate Diploma in Hospital & Healthcare Management': 5, 'FCSI': 1, 'FSCAI': 3, 'Master of Clinical Dentistry': 1, 'Certified In Panchkarma': 3, 'Certification In Yoga': 2, 'Paanchabhautic Ayurveda Certificate': 1, 'Diploma in Traditional Chinese Medicine': 1, 'Diploma of Clinical Hypnotherapy': 1, 'Fellowship in Diabetology': 26, 'Diploma in Laser Dentistry': 3, 'Diploma in Preventive & Promotive Healthcare': 2, 'Integrated Clinical Hypnotherapy': 2, 'Master of Oral Laser Applications': 1, 'MSc - Psychology': 3, 'Post Graduate Diploma in Family Medicine (PGDFM)': 1, 'MD - Ayurvedic Pharmacology': 2, 'Certificate Endodontics & Pedodontics': 2, 'Certified Inman Aligner': 1, '39 years experience': 1, 'Cert. (Prosthodontics)': 1, 'MD - Ayurvedic Obstetrics and Gynecology': 1, 'Diploma in Hospital Administration': 7, 'MCh - Urology': 4, 'DNB - Urology/Genito - Urinary Surgery': 3, 'FRCP - Endocrinology': 1, 'LCEH': 16, 'Nutrition Certification': 4, 'Doctor of Homeopathic Medicine (HMD)': 5, 'Diploma in Implant Dentistry': 2, 'Fellowship in Cosmetology': 8, 'MD - Community Medicine': 4, 'P.G.Hom.(London)': 1, 'fellowship in medical cosmetology': 1, 'germany': 1, 'Certified Advance Course In Endodontics': 5, 'Diplomate of National Board Exam': 1, 'Diploma in Implanthology': 6, 'ECFMG (USA)': 2, 'Fellowship In Dermatosurgery': 6, 'Fellowship in Pediatric Dermatology': 5, 'CGO': 25, 'Diploma in Trichology - Cosmetology': 7, 'Diploma in Weight Loss': 1, 'EducationDiploma in Naturopathy and Yoga': 1, 'P.G Diploma in Diabetes Management': 1, 'Post Graduate Diploma in Maternity and Child Health (PGDMCH)': 5, 'Fellowship SIB': 1, 'DAA': 3, 'DNB - Peripheral Vascular Surgery': 1, 'FRACS': 1, 'Diploma in Aesthetic Medicine': 4, 'MCIP': 2, 'PGDCFS': 1, 'PGDFOS': 1, 'Diploma in Journalism': 1, 'MD - Homoeopathic Philosophy': 2, 'MS - Counselling and Psychotherapy': 7, 'MCh - Oncology': 1, 'MNAMS - General Surgery': 3, 'Diploma in Geriatric Medicine': 2, 'M C P S': 1, 'Fellowship In Infectious Disease': 1, 'M Derm': 1, 'FCAH (Fellow ship course in Advance Homoepath)': 3, 'MD - Pulmonary Medicine': 3, 'BPTh/BPT': 1, 'PGNAHI': 2, 'CSD': 3, 'MSc': 6, 'PG in Diabetology': 7, 'FCPS Skin & VD': 3, 'M. D. IN KAYACHIKISTA': 2, 'Diploma in Psychiatry': 1, 'Diploma in Panchkarma Chikitsa': 1, 'Fellowship and Diplomate in Implantology from ICOI (USA)': 9, 'MCh - Plastic Surgery': 2, 'Fellowship in Cleft Lip & Palate': 1, 'MD - Diabetology': 6, 'Post Doctoral Fellowship in Diabetology': 1, 'MD - Cardiology': 5, 'MBA (HCS)': 3, 'FFDRCSI': 3, 'Fellowship in Applied Nutrition(FAN)': 2, 'PhD - Clinical Neuroscience (Pediatrics)': 1, 'Professional Diploma in Clinical Research (PDCR)': 1, 'FICOI': 8, 'MD - Physician': 23, 'BNYS': 1, 'Advanced Certificate Course in Aesthetic Dentistry': 3, 'Professional Implantology Training Course (PITC)': 2, 'FAGE- FELLOW': 1, 'Comprehensive Course in Modern Endodontics': 2, 'Indian Diploma Critical Care Medicine (IDCCM)': 3, 'Fellowship in Aesthetic Dentistry (FAD)': 3, 'Fellowship in Rhinology and Endoscopic Skull Base Surgery': 1, 'Fellowship in Otology and Neurotology': 1, 'Fellow of International Congress of Oral Implantologist': 2, 'Post MD SR AIIMS': 2, 'Fellowship in Head & Neck Oncology Surgery': 9, 'Certificate in Dental Implantology': 1, 'Certificate in Orthodontics': 1, 'Bachelor of Chiropractic': 1, 'Diploma in Venereology': 3, 'Certificate in Invisible Braces': 3, 'Certification in Clear Aligners': 2, 'Certification in “Preventing Chronic Pain: A Human Systems Approach”': 1, 'Certification in “Vital Signs: Understanding What the Body Is Telling Us”': 1, 'Diploma in Medical Trichology': 1, 'B.Sc': 12, 'MBA - Healthcare Administration': 1, 'MRCPsych': 1, 'Diploma in Medical Cosmetology and Aesthetic Medicine': 1, 'PG Diploma In Health & Hospital Management': 2, 'PG DIPLOMA IN MEDICAL TOURISM': 1, 'Fellowship in LASERs & Aesthetics': 2, 'Diploma in Orthopaedics': 3, 'DNB - General Surgery': 4, 'MS - Paediatrics Surgery': 1, 'DNB - Pediatric Surgery': 1, 'One Year Certificate course in Hospital Management': 1, 'Certified Course in Yoga': 3, 'DICOI': 3, 'MBA - Hospital Management': 5, 'G.A.M.S': 3, 'MS - Ophthalmology': 3, 'Fellowship in Implant and Esthetic Dentistry': 2, 'AOC in Aesthetic Dentistry': 1, 'PGDE (Cosmetic & Esthetic Dentist)': 3, 'Invisalign Training Course': 4, 'Post Graduate Diploma in Clinical Nutrition & Dietetics': 1, 'Masters Diploma in Acupressure': 2, 'MDS- Oral Pathology': 6, 'Fellowship in Breast Surgery': 1, 'Fellowship in Non-Invasive Cardiology (FIC)': 4, 'MAMS': 3, 'FCPS - Mid. & Gynae': 3, 'CVD': 2, 'Diploma in Clinical Nutrition': 1, 'MS - Ayurvedic General Surgery': 1, 'MD - Yoga and Rehab': 2, 'Certification in Infectious Diseases': 1, 'Diploma in Tropical Medicine Health': 2, 'Fellowship in Skull Base Surgery': 2, 'TFO (USA)': 1, 'PG in Diabetology (USA)': 3, 'MDS - Orthodontics and Orofacial Orthopaedics': 3, 'M.Med in Family Medicine': 1, 'DIACH(Greece)': 1, 'Certificate Course in Advanced Homoeopathy (C.C.A.H)': 6, 'FCCM': 4, 'FCCP - Pulmonary Medicine': 6, 'Diploma of the Faculty of Family Planning (DFFP)': 2, 'Diploma in Sports Therapy': 1, 'Post graduate diploma in Hospital Management': 2, 'Certification for Professional Chemical Peel Workshop': 1, 'Certificate in Aesthetic Medicine': 2, 'BUMS': 1, 'Masters in Clinical Dermatology': 6, 'PGCC - Rheumatology': 1, 'MD - Opthalmology': 1, 'MD - Kayachikitsalaya': 1, 'MS - Implantolgy': 1, 'Implantology ICOI(USA)': 1, 'Diploma in Diet and Nutrition': 7, 'PGDHA': 2, 'Certificate Course in Tuberculosis & Chest Diseases': 1, 'Advanced Training Program in Diabetes Care': 1, 'PhD in Liberal Studies in Diabetology (Trinity College)': 1, 'CCEDM': 3, 'CCMTD': 3, 'CCDR': 1, 'MDS - Implantology': 1, 'MD - Obstetrics & Gynaecology': 8, 'MD-DVL': 3, 'Diploma in Beauty Therapy': 1, 'Certificate Course In Cosmetic Dermatology & Lasers': 2, 'PG Diploma in Trichology': 2, 'Certificate in Botox': 1, 'Fillers': 1, 'Threadlifts': 1, 'Advanced Certification in Clinical Diabetology': 2, 'SCE Dermatology (RCP': 1, 'Post Graduate Diploma in Orthodontics': 4, 'CCD (Diabetology)': 1, 'MCh - Cardio Thoracic and Vascular Surgery': 1, 'DM - Gastroenterology': 5, 'FCPS - General Surgery': 3, 'DM - Rheumatology': 1, 'Fellowship in Dermatology': 2, 'Training in Facial Aesthetics': 1, 'Certificate in Health Management': 1, 'MD - Homeopathy Psychiatry': 2, 'PGCAD': 1, 'MRCP (Paed)': 1, 'Diplomate American Academy of Aesthetic Medicne': 1, 'MS - Urology': 1, 'MCh - Urology/Genito-Urinary Surgery': 1, 'PG Diploma In Emergency Trauma Care': 2, 'Post Graduate Diploma in Diabetology (PGDD)(Middlesex University': 1, 'Fellowship in Orthopaedic Rehabilitation (FOR)': 1, 'MIDA': 1, 'Certificate Course in Dental Lasers': 1, 'Certificate Course in Implantology': 3, 'DM - Endocrinology': 3, 'PGCR': 2, 'Diploma in Diabetes/Endocrinology (Middlesex University)': 1, 'MD - Paediatrics': 2, 'MD - (Dermatology & STD)': 2, 'Diploma in Clinical Pathology': 1, 'PG Diploma in Preventive and Promotive Health Care (PGD PPHC)': 1, 'Fellowship in Medical Cosmetology (FMC)': 2, 'MDS - Endodontics': 4, 'MCh - Neuro Surgery': 2, 'Fellowship in Cosmetic Surgery': 2, 'DNB - Ophthalmology': 3, 'Fellowship in Vitreo-Retina': 1, 'MS - Orthopaedics': 4, 'MNAMS (Membership of the National Academy)': 5, 'Post Graduate Diploma in Medicological Systems (PGDMS)': 2, 'Fellow of the Royal Australasian College of Surgeons': 1, 'FRACS (General Surgery)': 1, 'Fellowship in Ayurvedic Medicine': 1, 'DM - Oncology': 2, 'DHMS': 3, 'Fellowship in Endocrinology': 2, 'Diabetes & Metabolism': 2, 'Fellow of American College of Endocrinology(FACE)': 1, 'PG Diploma in Child Health': 1, 'POST GRADUATE IN HOMOEOPATHY': 1, 'Certified in Orthodontics': 2, 'Certified BPS Dentist': 3, 'Fellowship in Advanced Endoscopic Sinus Surgery': 3, 'Degree in Dental Implant': 1, 'Advanced Endotontic Course On Root Canal': 2, 'Master In Counselling Psychology': 1, 'Diploma in Diabetology (Mumbai University)': 1, 'D.Sc': 2, 'Certification Course In Diabetes': 2, 'Fellowship in Clinical Cardiology': 1, 'Post Graduate Certificate in Advanced Oral Implantology': 3, 'Ph.D Panchakarma': 1, 'M.Ch': 3, 'FICS': 3, 'FRCS': 3, 'PG Diploma in Panchakarma': 1, 'F.C.I.P': 1, 'MDS - Oral & Maxillofacial Pathology and Microbiology': 1, 'M.Ch - Orthopaedics': 2, 'Fellowship in Joint Replacement': 2, 'Fellowship in Diabetology(Royal Liverpool Academy': 2, 'FCD - Diabetology': 5, 'PhD - Microbiology': 1, 'DEMS': 2, 'Member of Royal College of Emergency Medicine(MRCEM)': 1, 'Masters in Emergency Medicine': 1, 'International Certificate in Implant Dentistry': 1, 'Current Concepts in American Dentistry Advances in Implantology and Oral Rehabilitation': 2, 'MSc - Forensic Odontology': 2, 'MBA - Hospital Administration': 1, 'MCh - Surgical Gastroenterology/G.I. Surgery': 2, 'DNB - Infectious Disease': 1, 'PGDMLS': 4, 'MBA - HealthCare Management': 2, 'M.H.Sc-Diabetology': 3, 'CCEBDM': 3, 'Certificate Course in Nutrition and Dietetics': 1, 'PhD - Acupuncture': 2, 'BEMS': 5, 'Fellowship in Gastroenterology': 2, 'DNB - Oral & Maxillofacial Surgery': 1, 'MD- Dravya Guna': 3, 'Fellow of Advanced Micro ear Surgery': 1, 'MDS- Periodontist & Implantalogist': 1, 'Fellowship in Head & Neck Surgery': 2, 'Fellowship Training in Intensive Care Medicine': 1, 'Fellow of Indian College of Cardiology (FICC)': 1, 'MD - Anatomy': 2, 'Fellowship in Child and Adolescent Psychiatry': 1, 'Post Graduate Diploma in Periodontics and Implantology': 1, 'Fellowship Program in Forensic Odontology': 1, 'Fellowship In Phonosurgery': 2, 'MA - Psychology': 2, 'Post Graduate Course in Rheumatology': 1, 'MD - Venereology': 1, 'MD - Repertory': 1, 'DNB - Obstetrics & Gynecology': 2, 'Postgraduate Diploma Clinical Cardiology (PGDCC)': 6, 'Fellowship in Cardiac Rehabilitation': 2, 'Certificate Course in Oral Implantology': 1, 'MPH': 4, 'Post Graduate Diploma in Holistic Healthcare': 1, 'Graduate Diploma in Family Medicine': 1, 'Singapore': 1, 'D.Ortho Fellow Arthroscopy & Arthroplasty(AUST)': 1, 'DNB - Orthopedics/Orthopedic Surgery': 3, 'MNAMS - DERMATOLOGY': 1, 'Basic Life Support (BLS)': 3, 'ACLS': 1, 'Advanced Trauma Life Support (ATLS)': 2, 'Diploma In Pharmacy': 3, 'Advance Diploma in Nutrition and Dietetics': 2, 'Certificate in Yoga & Meditation': 1, 'DM - Nephrology': 4, 'Diploma in Nutrition and Health Education': 1, 'MSc - Clinical Dermatology': 4, 'Advanced Certificate in Endodontics and Esthetics': 1, 'Advanced Certificate Course in Dental Implants': 2, 'B.Ac': 1, 'FACC': 1, 'Certificate Course in Positive Psychology': 1, 'Clinical Nutritionist certifcate': 1, 'M.Sc - Counselling and Family Therapy': 1, 'D. Dermatology (Ay.)': 1, 'Master of Family Medicine': 2, 'MS - Obstetrics & Gynaecology': 2, 'MDS- Root Canal Specialist': 1, 'FCPS (ENT)': 1, 'Certificate in Implantology': 1, 'FCPS - Oto-Rhino-Laryngology': 5, 'Certificate in Medical Cosmetology and Aesthetics': 1, 'MCh - Head and Neck Oncology': 4, 'DDVCPS': 1, 'Diploma in Medical Cosmetology': 4, 'FNB - Critical Care Medicine': 1, 'European Diploma in Intensive Care Medicine (EDIC)': 1, 'CCST - Internal Medicine': 1, 'CCST - Diabetes & Endocrinology': 2, 'M.D. (E.H)': 1, 'MDS - Preventive & Community Dentistry': 1, 'Diploma in Homoeopathy and Biochemistry': 1, 'Diploma in Hair Restoration Surgery': 2, 'Fellowship In Pediatric Otolaryngology': 2, 'Fellowship in Diabetology(The University of Liverpool': 1, 'Diploma in Industrial Hygiene': 2, 'Diploma in Educational Psychology': 1, 'Certificate in Food and Nutrition': 3, 'Diploma in Clinical Dermatology (UK)': 1, 'F.S.R.H': 1, 'FCPS - Medicine': 2, 'MD - Nephrology': 1, 'MCh - Surgical Oncology': 2, 'Diploma in Gynaecology & Obstetrics': 1, 'Fellow of the American Academy of Dermatology (FAAD)': 4, 'MDS - Prosthodontist & Oral Implantologist': 4, 'MD - Homeo Organon': 2, 'MFGDP - Membership of the Faculty of General Dental Practitioners': 1, 'Membership of the Faculty of Dental Surgeons(MFDS)': 1, 'DNB - Respiratory Diseases': 2, 'BIMS': 1, 'MCPS': 2, 'Certificate in Sports Nutrition': 1, 'Post Graduate Diploma in Medical Cosmetology (PGDMC)': 2, 'Certificate in Pediatric Otolaryngology - Head and Neck Surgery': 1, 'Diploma in Aesthetic Dermatology': 1, 'MD - Infectious Diseases': 1, 'Certificate Course of One Year in Dental Implants': 1, 'Certificate Course in Advance Implantology': 1, 'Certificate Course in Evidence Based Diabetes Management (CCEBDM)': 4, 'Certificate Course in Gestational Diabetes (CCGDM)': 3, 'MD - Physical Medicine & Rehabilitation': 1, 'Diploma in Physical Medicine & Rehabilitation': 1, 'Fellowship in Diabetology & Endocrinology': 1, 'CCT - Endocrinology and Diabetes Mellitus': 1, 'Certified Sinus lift surgeon': 1, 'Diploma in Skin Polishing Technology': 1, 'Diploma in Slimming & Laser Treatments': 1, 'Certificate in Clinical Cosmetology': 1, 'PCAD (USA)': 1, 'MD - Acupressure': 2, 'PhD - Diabetes': 1, 'Fellowship in Medical Cosmetology': 2, 'Diploma in Cosmetic Dentistry': 1, 'FRCS - Otolaryngology': 5, 'DNB - Cardiology': 2, 'Distance Fellowship in Diabetes Management': 1, 'MBA - Healthcare Services': 1, 'Post Graduate Diploma in Diabetology (PGDD)(Johns Hopkins University School of Medicine': 1, 'Fellowship in Diabetology(Johns Hopkins University School of Medicine': 1, 'DMD - Doctor of Dental Medicine': 1, 'Post Graduate Diploma in Diabetology (PGDD)(Cardiff University': 1, 'ACDMC': 1, 'Diploma in Acupressure Therapy': 1, 'Advanced Certificate Course In Diabetes': 4, 'Post graduate certificate In sports Medicine': 1, 'Clinical Cardiology Certification': 1, 'FDS Surgical Oral Oncology': 1, 'Diploma in Ultra Sonology': 1, 'MD (HOM) - Paeditrics': 1, 'Clinical Fellowship in Rhinology': 1, 'MD - Ophthalmology': 1, 'MDS - Oral Pathalogy & Microbiology': 1, 'LLB': 2, 'Fellow in Dermato - Surgery': 1, 'Advance Fellowship in Laser & Dermatosurgery': 1, 'PhD - Psychology': 1, 'MD - Tuberculosis & Respiratory Diseases / Pulmonary Medicine': 2, 'MDS - Oral Medicine': 4, 'PG Certificate Course In Diabetes Education(PGDCE)': 3, 'PGD Yoga': 1, 'MA (Yoga Shastra)': 1, 'Diploma in Yoga Shikshaka': 1, \"Yoga Instructor's Course\": 4, 'D.H.M': 1, 'MD - Physiology': 1, 'F.A.M': 1, 'Fellowship in laryngology': 1, 'Ph. D - ENT': 1, 'Certificate in Laser and Dermatology': 1, 'Diploma in Skin & Vinereal Disease': 1, 'Diploma of Nutrition & Diet Planning': 2, 'Diploma in Diabetes': 3, 'PG - Echocardiography': 1, 'DM - Pulmonary Medicine & Critical Care Medicine': 1, 'European Diploma in Respiratory Medicine': 1, 'Post Graduate Diploma in Diabetic Education': 1, 'Weight Management Consultant Certificate': 1, 'Fellowship (Endoscopic Sinus Surgery)': 1, 'MD - TB & Chest': 1, 'FRACP (Rheumatology)': 2, 'F.C.P.S (Dermatology)': 1, 'Post Graduate Diploma in Health Sciences (PGDHSc)': 1, 'Master of Health Sciences (MHSc)': 3, 'M. SC in YOGA': 1, 'Diploma in Naturopathy & Yogic Science (DNYT)': 1, 'DYSc.': 1, 'Post Graduate in Clinical Psychology': 1, 'Certificate Course in Panchakarma': 2, 'Certificate Course in Nadi Sutra': 1, 'Post Graduate Certificate In Hiv And Std Manegement': 1, 'Fellow Indian Academy Of Clinical Medicine': 1, 'Advance Course In Osteoporosis': 1, 'EULAR certificate for Rheumatic Diseases': 1, 'MD - Radio Diagnosis/Radiology': 1, 'CCT - Dermatology': 1, 'Diploma in ABLS (USA)': 1, 'FPFA': 1, 'MDS - Preventive and Public Health Dentistry': 2, 'Certificate course in Reiki': 1, 'Certificate in Nutrition and Health in Hospitalized': 1, 'Certificate in Guidance and Counselling': 1, 'Post graduate diploma in Health Management': 1, 'PGDPC (Post Graduation Diploma In Psychological Counselling)': 3, 'MD - Transfusion Medicine': 1, 'MD - Bio-Chemistry': 1, 'PGD ND': 1, 'MBS (H)': 1, 'FIAMS': 2, 'Certified in Pedodontics': 1, 'FICS - ENT': 1, 'FRHS': 1, 'M.Sc - Biochemistry': 1, 'Fellow of the Royal College of Surgeons of Ireland': 1, 'Fundamental in Oral Implantology': 1, 'Doctorate of Medicine in Electro Homoeopathy(MDEH)': 1, 'D.D': 1, 'FCCS': 3, 'DSM ( Siddha Medicine)': 1, 'D.Ac': 1, 'MD - Social & Preventive Medicine / Community Medicine': 1, 'PGCE(Endodontics)': 1, 'MS - Ayurvedic Ophthalmology': 1, 'MNAMS - Nephrology': 1, 'DAFPRS Fellowship in Aesthetic Surgery': 1, 'Fellowship in Pediatric Endocrinology': 1, 'Diploma in Urology': 1, 'FRCPCH': 1, 'M Phil Psychology': 1, 'PDCC - Hand': 1, 'PG in Laser Dentistry': 1, 'Diploma in Obesity & Pain management': 1, 'Post Graduate Diploma in Health': 1, 'Family Welfare and Population': 1, 'DIH': 1, 'Doctor of Medicine': 2, 'M.D. Panchakarma': 1, 'M.Sc. Yoga and Naturopathy': 1, 'Certificate in Botox and Fillers': 1, 'MD - Pain Management': 1, 'FICA': 2, 'Diploma in Dietetics': 1, 'Health and Nutrition (DDHN)': 1, 'DVL': 2, 'Diplomate in Neuromuscular Functional Orthodontics And Gathology': 1, 'FIMSA': 2, 'MSc - Physiology': 1, 'PG Diploma Clinical Research': 1, 'Diploma in Dietetics & Public Health Nutrition (DDPHN)': 1, 'Robert Turner Diabetes Research Training': 1, 'WHO/IDF/EASD Cambridge Diabetes Training': 1, 'MS - Otrohinolaryngology': 1, 'AMI Essentials- Applied Workshop for Aesthetic Procedures': 1, 'Advanced Course in Cosmetology and Aesthetic Medicine': 2, 'Fellowship in Micro Ear surgery': 1, 'Fellowship in Snoring Surgery': 1, 'Diploma in Industrial Health': 1, 'MSc - Psychotherapy': 1, 'Certification of Life Coach': 1, 'PG - Homeo': 1, 'M.A - Sanskrit': 1, 'DNB - Endocrinology': 1, 'Diabetes': 1, 'Metabolism': 1, 'Certified Yoga and Pranic healing Therapist': 1, 'Certified National Diabetes Educator': 1, 'Bachelor of Acupuncture': 1, 'Certified Analytical Hypnotherapist': 1, 'Diploma in Physiotherapy': 1, 'Certificate in Medical Cosmetology': 1, 'MD - Radiotherapy': 1, 'Certificate course in SUJOK Therapy': 1, 'Fellowship In Clinical Cosmetology': 1, 'Cochlear Implant Surgery': 1, 'Fellowship Cochlear Implant Training': 1, 'Post Graduate Diploma in Psychological Counseling': 1, 'Post Graduate Diploma in Diabetology (PGDD)(Madras Medical College)': 1, 'Diploma in Skin Treatments (UK)': 1, 'Certification of Aesthetic Dentistry & Periodontics': 1, 'MCh - Burns & Plastic Surgery': 1, 'EULAR Certificate in Rheumatology': 1, 'FICO (UK)': 1, 'PhD - Dermatology & Venereology': 1, 'DNB - Pulmonary Medicine': 3, 'Post Graduate Certificate Course In Aesthetic Dentistry': 1, 'FACP': 1, 'Member of the Royal College of General Practitioners UK (MRCGP)': 1, 'MD - Geriatrics': 1, 'MD AYURVED AND YOG': 1, 'Training Certificate in Hair Transplant': 1, 'Certificate Course in Gestational Diabetes Mellitus': 1, 'P.G. Diploma in Yoga & Meditation': 1, 'MD-Ayurvedic Vachaspati': 1, 'Post Graduate Diploma in Sports Medicine': 1, 'MSc. - Dermatology Skills and Treatment (University of Hertfordshire)': 1, 'MSc - Applied Psychology': 1, 'FRCSEd': 1, 'MSc - Endocrinology(UK)': 1, 'MCh - Cardio Thoracic Surgery': 1, 'Masters in Surgery (MS)': 1, 'MD - (Medicine - Endocrinology)': 1, 'MCEM': 1, 'DFM (UK)': 1, 'DIPLOMA IN TB AND CHEST DISEASES': 1, 'Certification in Nutrition and Weight Management': 1, 'DAT(Diploma in Accupressure and foot Reflexology)': 1, 'MASLP': 1, 'Diploma in Radio Therapy': 1, 'FDSRCS - Fellowship in Dental Surgery': 2, 'Fellowship in ClearPath Aligners': 1, 'FAMS - Dermatology': 1, 'Diploma In Anatomy Physiology': 1, 'PDCC - Pediatric Endocrinology': 1, 'Diploma in Counselling and Psychotherapy': 1, 'MD - CCM': 1, 'Ph.D(Doctor of Philosophy)': 1, 'PG Diploma in Value Education and Spirtuality': 1, 'Certified Implantologist': 1, 'Fellowship in Surgical Oncology (Head & Neck)': 1, 'Continuing Education Certificate Program on Temporomandibular Joint Disorder and Orofacial Pain': 1, 'Post Graduate in Homeopathy(london)': 1, 'DNB - Radiation Oncology': 1, 'MDS - Operative Dentistry': 1, 'DTCD(Diploma in TB and Chest Dieseas)': 1, 'Member Of The National Academy Of Medical Sciences': 1, 'DNB - Radiotherapy': 1, 'Post Graduate Diploma in Diabetology (PGDD)(University of Leicester': 1, 'DRCOG': 1, 'FDS Endodontics': 1, 'Certified in Advanced Orthodontics': 1, 'certification in smile designing': 1}\n"
          ]
        }
      ]
    },
    {
      "cell_type": "code",
      "source": [
        "top_ten = sorted(Qualification.items(),key  = lambda x: x[1] , reverse = True)[:10]\n",
        "final_qual = []\n",
        "for qual in top_ten:\n",
        "  final_qual.append(qual[0])"
      ],
      "metadata": {
        "id": "hqXVlxyzJPdj"
      },
      "execution_count": 29,
      "outputs": []
    },
    {
      "cell_type": "code",
      "source": [
        "print(final_qual)"
      ],
      "metadata": {
        "colab": {
          "base_uri": "https://localhost:8080/"
        },
        "id": "1i1eGkhdJ1Q2",
        "outputId": "a1273445-80dc-4448-bf34-81ada7c89444"
      },
      "execution_count": 30,
      "outputs": [
        {
          "output_type": "stream",
          "name": "stdout",
          "text": [
            "['MBBS', 'BDS', 'BAMS', 'BHMS', 'MD - Dermatology', 'MS - ENT', 'Venereology & Leprosy', 'MD - General Medicine', 'Diploma in Otorhinolaryngology (DLO)', 'MD - Homeopathy']\n"
          ]
        }
      ]
    },
    {
      "cell_type": "code",
      "source": [
        "for qual in final_qual:\n",
        "  train[qual]=0\n",
        "\n",
        "for x,y in zip(train['Qualification'].values, np.array([i for i in range(len(train))])):\n",
        "\n",
        "  for z in x:\n",
        "\n",
        "    z=z.strip()\n",
        "    if z in final_qual:\n",
        "\n",
        "      train[z][y] = 1"
      ],
      "metadata": {
        "colab": {
          "base_uri": "https://localhost:8080/"
        },
        "id": "1HjaZ_duKDxQ",
        "outputId": "3c8e6109-4c6c-45f9-fb7d-426f43f698fd"
      },
      "execution_count": 32,
      "outputs": [
        {
          "output_type": "stream",
          "name": "stderr",
          "text": [
            "<ipython-input-32-365596536599>:11: SettingWithCopyWarning: \n",
            "A value is trying to be set on a copy of a slice from a DataFrame\n",
            "\n",
            "See the caveats in the documentation: https://pandas.pydata.org/pandas-docs/stable/user_guide/indexing.html#returning-a-view-versus-a-copy\n",
            "  train[z][y] = 1\n"
          ]
        }
      ]
    },
    {
      "cell_type": "code",
      "source": [
        "train.drop(['Qualification', 'Qualification_count'], axis = 1 , inplace = True)"
      ],
      "metadata": {
        "id": "BrENGa1OLTd2"
      },
      "execution_count": 33,
      "outputs": []
    },
    {
      "cell_type": "code",
      "source": [
        "train.columns"
      ],
      "metadata": {
        "colab": {
          "base_uri": "https://localhost:8080/"
        },
        "id": "sGMwUYhILuEQ",
        "outputId": "bd4d4715-9f31-420d-8a22-310fb78e460d"
      },
      "execution_count": 35,
      "outputs": [
        {
          "output_type": "execute_result",
          "data": {
            "text/plain": [
              "Index(['Experience', 'Rating', 'Profile', 'Miscellaneous_Info', 'Fees',\n",
              "       'Locality', 'city', 'MBBS', 'BDS', 'BAMS', 'BHMS', 'MD - Dermatology',\n",
              "       'MS - ENT', 'Venereology & Leprosy', 'MD - General Medicine',\n",
              "       'Diploma in Otorhinolaryngology (DLO)', 'MD - Homeopathy'],\n",
              "      dtype='object')"
            ]
          },
          "metadata": {},
          "execution_count": 35
        }
      ]
    },
    {
      "cell_type": "code",
      "source": [
        "train['city'].unique()"
      ],
      "metadata": {
        "colab": {
          "base_uri": "https://localhost:8080/"
        },
        "id": "8BMXA1glL3AU",
        "outputId": "d6dfcc3e-914c-4297-e69a-9fc504b0f85b"
      },
      "execution_count": 36,
      "outputs": [
        {
          "output_type": "execute_result",
          "data": {
            "text/plain": [
              "array(['Ernakulam', 'Bangalore', '-', 'Road,', 'Chennai', 'Bagh,',\n",
              "       'City,', 'Lights,', 'Hyderabad', 'Racecourse,', 'Hills,', 'Delhi',\n",
              "       'Nagar,', 'West,', 'Layout,', 'Coimbatore', 'Enclave,', 'Mumbai',\n",
              "       'Thiruvananthapuram', 'Colony,', 'Park,', 'East,', 'Extension,',\n",
              "       'Friends', 'Rao', 'New', 'Vihar,', nan, 'Nagar', 'Medical',\n",
              "       'Nizamuddin,', 'Rajendra', 'Layout', 'Town,', 'Kailash',\n",
              "       'Extension', '3rd', 'Puri,', 'House,', 'Corner,', 'Garden,',\n",
              "       'Ganj,', 'Vihar', 'Point,', 'Beach,', '1', 'Raman', 'Puram,',\n",
              "       'Town', 'Halli,', 'Park', 'Sector', 'Lines,', 'Kunj,', 'Mambalam,',\n",
              "       'city,', 'Hazari,', 'Annamalai', 'Bowenpally,', 'College,', '4',\n",
              "       'Marredpally,', 'Circle,', 'Parade,', 'Ghoda,', 'Niketan,',\n",
              "       'Kailash,', 'Aerodrome,', '1st', '5', '9', 'Bhayandar,', 'Airport',\n",
              "       'BEL', 'Of', 'Museum,', 'Sarai,', 'Square,', 'Jn,', '2nd',\n",
              "       'Ukkadam,', 'North,', 'Seemapuri,', 'Bazar,', 'Parel,', 'Market,',\n",
              "       'Khas,', 'Candy,', 'Central,', 'Upanagara,', '6', 'Ashok',\n",
              "       'nagar,', 'Hill,', 'Institutional', '8', '7', 'Cantt,', 'Tank,',\n",
              "       'Thippasandra,', 'Koti,', 'Salai,', 'Chalai,', 'South,', '2',\n",
              "       'Drive,', 'Nagri,', 'Kranti', 'baug,', 'Lok,', 'Mandi,', 'Pettah,',\n",
              "       'Koliwada,', 'Chowk,', 'Dasarahalli,', 'Kempapura,', 'Ali,',\n",
              "       'Thomas', 'Place,', 'Jeedimetla,', 'Camp,', 'Bazaar,', 'Pratap',\n",
              "       'M.G.Road,', 'X', 'Palya', 'Khera,', '3', 'Fort,'], dtype=object)"
            ]
          },
          "metadata": {},
          "execution_count": 36
        }
      ]
    },
    {
      "cell_type": "code",
      "source": [
        "import re"
      ],
      "metadata": {
        "id": "8kNBUosVMakm"
      },
      "execution_count": null,
      "outputs": []
    },
    {
      "cell_type": "code",
      "source": [
        "train['city'] = train['city'].apply(lambda x: re.sub(' +','', str(x)))\n",
        "train['city'].value_counts()"
      ],
      "metadata": {
        "colab": {
          "base_uri": "https://localhost:8080/"
        },
        "id": "Oo3E8ZwiL7sM",
        "outputId": "a8604684-53d9-482d-c1b5-1312d6e4f7a5"
      },
      "execution_count": 40,
      "outputs": [
        {
          "output_type": "execute_result",
          "data": {
            "text/plain": [
              "Hyderabad     680\n",
              "Chennai       659\n",
              "Bangalore     653\n",
              "West,         561\n",
              "Nagar,        433\n",
              "             ... \n",
              "Museum,         1\n",
              "Aerodrome,      1\n",
              "Hazari,         1\n",
              "Beach,          1\n",
              "Fort,           1\n",
              "Name: city, Length: 129, dtype: int64"
            ]
          },
          "metadata": {},
          "execution_count": 40
        }
      ]
    },
    {
      "cell_type": "code",
      "source": [
        "plt.figure(figsize = (12,6))\n",
        "sns.barplot(x= 'Profile' , y='Fees', data = train)\n",
        "plt.show()"
      ],
      "metadata": {
        "colab": {
          "base_uri": "https://localhost:8080/",
          "height": 487
        },
        "id": "ybJnZt4LNguA",
        "outputId": "3e6ff325-6410-4765-93ea-0f0feb3d80a7"
      },
      "execution_count": 42,
      "outputs": [
        {
          "output_type": "display_data",
          "data": {
            "text/plain": [
              "<Figure size 1200x600 with 1 Axes>"
            ],
            "image/png": "[encoded data removed]"
          },
          "metadata": {}
        }
      ]
    },
    {
      "cell_type": "code",
      "source": [
        "plt.figure(figsize = (12,6))\n",
        "sns.lineplot(x= 'Experience' , y='Fees', data = train)\n",
        "plt.show()"
      ],
      "metadata": {
        "colab": {
          "base_uri": "https://localhost:8080/",
          "height": 487
        },
        "id": "vahcN72KOMyA",
        "outputId": "294764f0-5597-4d8d-fd9b-278a3364368f"
      },
      "execution_count": 44,
      "outputs": [
        {
          "output_type": "display_data",
          "data": {
            "text/plain": [
              "<Figure size 1200x600 with 1 Axes>"
            ],
            "image/png": "[encoded data removed]"
          },
          "metadata": {}
        }
      ]
    },
    {
      "cell_type": "code",
      "source": [
        "train['city'].value_counts()"
      ],
      "metadata": {
        "colab": {
          "base_uri": "https://localhost:8080/"
        },
        "id": "2NAPqPtzOjfc",
        "outputId": "fd6c5e2b-adbe-41d4-9bc1-2a6549f9ac6f"
      },
      "execution_count": 47,
      "outputs": [
        {
          "output_type": "execute_result",
          "data": {
            "text/plain": [
              "Hyderabad     680\n",
              "Chennai       659\n",
              "Bangalore     653\n",
              "West,         561\n",
              "Nagar,        433\n",
              "             ... \n",
              "Museum,         1\n",
              "Aerodrome,      1\n",
              "Hazari,         1\n",
              "Beach,          1\n",
              "Fort,           1\n",
              "Name: city, Length: 129, dtype: int64"
            ]
          },
          "metadata": {},
          "execution_count": 47
        }
      ]
    },
    {
      "cell_type": "code",
      "source": [
        "train = pd.get_dummies(train, columns = ['Profile'], prefix=['Profile'])"
      ],
      "metadata": {
        "id": "VExuC8y1PFv5"
      },
      "execution_count": 48,
      "outputs": []
    },
    {
      "cell_type": "code",
      "source": [
        "train.head(10)"
      ],
      "metadata": {
        "id": "NssCGRT9PWKL"
      },
      "execution_count": null,
      "outputs": []
    },
    {
      "cell_type": "code",
      "source": [
        "train.drop(['Miscellaneous_Info', 'Locality'], axis = 1, inplace = True)"
      ],
      "metadata": {
        "id": "toOrdmr8PpT7"
      },
      "execution_count": 51,
      "outputs": []
    },
    {
      "cell_type": "code",
      "source": [
        "train.isnull().sum()"
      ],
      "metadata": {
        "colab": {
          "base_uri": "https://localhost:8080/"
        },
        "id": "cviVNPHyQNSS",
        "outputId": "c5161357-aa53-433e-f8a9-52cdbc307673"
      },
      "execution_count": 52,
      "outputs": [
        {
          "output_type": "execute_result",
          "data": {
            "text/plain": [
              "Experience                                 0\n",
              "Rating                                  3302\n",
              "Fees                                       0\n",
              "city                                       0\n",
              "MBBS                                       0\n",
              "BDS                                        0\n",
              "BAMS                                       0\n",
              "BHMS                                       0\n",
              "MD - Dermatology                           0\n",
              "MS - ENT                                   0\n",
              "Venereology & Leprosy                      0\n",
              "MD - General Medicine                      0\n",
              "Diploma in Otorhinolaryngology (DLO)       0\n",
              "MD - Homeopathy                            0\n",
              "Profile_Ayurveda                           0\n",
              "Profile_Dentist                            0\n",
              "Profile_Dermatologists                     0\n",
              "Profile_ENT Specialist                     0\n",
              "Profile_General Medicine                   0\n",
              "Profile_Homeopath                          0\n",
              "dtype: int64"
            ]
          },
          "metadata": {},
          "execution_count": 52
        }
      ]
    }
  ]
}